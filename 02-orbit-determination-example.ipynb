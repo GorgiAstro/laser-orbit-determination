{
 "cells": [
  {
   "cell_type": "markdown",
   "metadata": {},
   "source": [
    "# Orbit determination example\n",
    "This notebook does the following:\n",
    "* Download an orbit first guess from SpaceTrack\n",
    "* Download laser ranging data\n",
    "* Feed the data to Orekit\n",
    "* Estimate the orbit\n",
    "* Propagate and compare the orbit to the first guess"
   ]
  },
  {
   "cell_type": "markdown",
   "metadata": {},
   "source": [
    "First, some parameters need to be defined for the orbit determination:\n",
    "* Satellite ID in NORAD and COSPAR format\n",
    "* Spacecraft mass: important for the drag term\n",
    "* Start date: date where to begin the orbit determination"
   ]
  },
  {
   "cell_type": "code",
   "execution_count": 1,
   "metadata": {},
   "outputs": [],
   "source": [
    "# Parameters\n",
    "noradId = 42829\n",
    "cosparId = '1704205' \n",
    "mass = 20.0 # kg\n",
    "\n",
    "from datetime import datetime\n",
    "startDate = datetime(2018, 7, 14) # Beginning of the orbit determination"
   ]
  },
  {
   "cell_type": "markdown",
   "metadata": {},
   "source": [
    "The following sets up accounts for SpaceTrack (for orbit data) and the EDC API (for laser ranging data).\n",
    "* A SpaceTrack account is required, it can be created for free at: https://www.space-track.org/auth/createAccount\n",
    "* An EDC account is required, it can be created for free at: https://edc.dgfi.tum.de/en/register/"
   ]
  },
  {
   "cell_type": "code",
   "execution_count": 5,
   "metadata": {},
   "outputs": [
    {
     "name": "stdout",
     "output_type": "stream",
     "text": [
      "Enter SpaceTrack password for account clement@jonglez.space\n",
      "········\n",
      "Enter EDC API password for account jonglez\n",
      "········\n"
     ]
    }
   ],
   "source": [
    "# Space-Track\n",
    "identity_st = '' # Email address for Space-Track\n",
    "import getpass\n",
    "print('Enter SpaceTrack password for account {}'.format(identity_st))\n",
    "password_st = getpass.getpass()\n",
    "import spacetrack.operators as op\n",
    "from spacetrack import SpaceTrackClient\n",
    "st = SpaceTrackClient(identity=identity_st, password=password_st)\n",
    "\n",
    "# EDC API\n",
    "username_edc = '' # Username for EDC API\n",
    "print('Enter EDC API password for account {}'.format(username_edc))\n",
    "password_edc = getpass.getpass() # You will get prompted for your password\n",
    "url = 'https://edc.dgfi.tum.de/api/v1/'"
   ]
  },
  {
   "cell_type": "markdown",
   "metadata": {},
   "source": [
    "The orbit determination needs a first guess. For this, we use Two-Line Elements. Retrieving the latest TLE prior to the beginning of the orbit determination. It is important to have a \"fresh\" TLE, because the newer the TLE, the better the orbit estimation."
   ]
  },
  {
   "cell_type": "code",
   "execution_count": 6,
   "metadata": {},
   "outputs": [
    {
     "name": "stdout",
     "output_type": "stream",
     "text": [
      "1 42829U 17042E   18194.87572169 +.00000240 +00000-0 +29796-4 0  9990\n",
      "2 42829 097.5943 096.2213 0015726 108.7371 251.5556 14.90835887054309\n"
     ]
    }
   ],
   "source": [
    "rawTle = st.tle(norad_cat_id=noradId, epoch='<{}'.format(startDate), orderby='epoch desc', limit=1, format='tle')\n",
    "tleLine1 = rawTle.split('\\n')[0]\n",
    "tleLine2 = rawTle.split('\\n')[1]\n",
    "print(tleLine1)\n",
    "print(tleLine2)"
   ]
  },
  {
   "cell_type": "markdown",
   "metadata": {},
   "source": []
  }
 ],
 "metadata": {
  "kernelspec": {
   "display_name": "Python 3",
   "language": "python",
   "name": "python3"
  },
  "language_info": {
   "codemirror_mode": {
    "name": "ipython",
    "version": 3
   },
   "file_extension": ".py",
   "mimetype": "text/x-python",
   "name": "python",
   "nbconvert_exporter": "python",
   "pygments_lexer": "ipython3",
   "version": "3.7.0"
  }
 },
 "nbformat": 4,
 "nbformat_minor": 2
}
