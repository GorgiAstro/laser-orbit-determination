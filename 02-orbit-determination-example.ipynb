{
 "cells": [
  {
   "cell_type": "markdown",
   "metadata": {},
   "source": [
    "# Orbit determination example\n",
    "This notebook does the following:\n",
    "* Download an orbit first guess from SpaceTrack\n",
    "* Download laser ranging data\n",
    "* Feed the data to Orekit\n",
    "* Estimate the orbit\n",
    "* Propagate and compare the orbit to the first guess"
   ]
  },
  {
   "cell_type": "markdown",
   "metadata": {},
   "source": [
    "First, some parameters need to be defined for the orbit determination:\n",
    "* Satellite ID in NORAD and COSPAR format\n",
    "* Spacecraft mass: important for the drag term\n",
    "* Measurement weights: used to weight certain measurements more than others during the orbit estimation. Here, we only have range measurements and we do not know the confidence associated to these measurements, so all weights are identical\n",
    "* OD date: date at which the orbit will be estimated. \n",
    "* Data collection duration: for example, if equals 2 days, the laser data from the 2 days before the OD date will be used to estimate the orbit. This value is an important trade-off for the quality of the orbit determination:\n",
    "    * The longer the duration, the more ranging data is available, which can increase the quality of the estimation\n",
    "    * The longer the duration, the longer the orbit must be propagated, and the higher the covariance because of the orbit perturbations such as the gravity field, drag, Sun, Moon, etc."
   ]
  },
  {
   "cell_type": "markdown",
   "metadata": {},
   "source": [
    "## OD parameters"
   ]
  },
  {
   "cell_type": "code",
   "execution_count": 1,
   "metadata": {},
   "outputs": [],
   "source": [
    "# Constants\n",
    "c = 299792458 # m/s\n",
    "\n",
    "# Parameters\n",
    "noradId = 42829\n",
    "cosparId = '1704205' \n",
    "sc_mass = 20.0 # kg\n",
    "cr_radiationPressure = 1.0\n",
    "range_weight = 1.0 # Will be normalized later (i.e divided by the number of observations)\n",
    "range_sigma = 1.0 # Estimated covariance of the range measurements, in meters\n",
    "\n",
    "from datetime import datetime\n",
    "odDate = datetime(2018, 7, 14) # Beginning of the orbit determination\n",
    "collectionDuration = 1 # days\n",
    "from datetime import timedelta\n",
    "startCollectionDate = odDate + timedelta(days=-collectionDuration)\n",
    "\n",
    "# Orbit propagator parameters\n",
    "prop_min_step = 0.001 # s\n",
    "prop_max_step = 300.0 # s\n",
    "prop_position_error = 10.0 # m\n",
    "\n",
    "# Estimator parameters\n",
    "estimator_position_scale = 1.0 # m\n",
    "estimator_parameters_convergence_threshold = 1e-3\n",
    "estimator_max_iterations = 25\n",
    "estimator_max_evaluations = 35"
   ]
  },
  {
   "cell_type": "markdown",
   "metadata": {},
   "source": [
    "## API credentials\n",
    "The following sets up accounts for SpaceTrack (for orbit data) and the EDC API (for laser ranging data).\n",
    "* A SpaceTrack account is required, it can be created for free at: https://www.space-track.org/auth/createAccount\n",
    "* An EDC account is required, it can be created for free at: https://edc.dgfi.tum.de/en/register/"
   ]
  },
  {
   "cell_type": "code",
   "execution_count": 2,
   "metadata": {},
   "outputs": [
    {
     "name": "stdin",
     "output_type": "stream",
     "text": [
      "Enter SpaceTrack password for account clement@jonglez.space ·····················\n",
      "Enter EDC API password for account jonglez ·······\n"
     ]
    }
   ],
   "source": [
    "# Space-Track\n",
    "identity_st = 'clement@jonglez.space' # Email address for Space-Track\n",
    "import getpass\n",
    "password_st = getpass.getpass(prompt='Enter SpaceTrack password for account {}'.format(identity_st))\n",
    "import spacetrack.operators as op\n",
    "from spacetrack import SpaceTrackClient\n",
    "st = SpaceTrackClient(identity=identity_st, password=password_st)\n",
    "\n",
    "# EDC API\n",
    "username_edc = 'jonglez' # Username for EDC API\n",
    "password_edc = getpass.getpass(prompt='Enter EDC API password for account {}'.format(username_edc)) # You will get prompted for your password\n",
    "url = 'https://edc.dgfi.tum.de/api/v1/'"
   ]
  },
  {
   "cell_type": "markdown",
   "metadata": {},
   "source": [
    "## Setting up models\n",
    "Initializing Orekit and JVM"
   ]
  },
  {
   "cell_type": "code",
   "execution_count": 3,
   "metadata": {},
   "outputs": [],
   "source": [
    "import orekit\n",
    "orekit.initVM()\n",
    "from orekit.pyhelpers import setup_orekit_curdir\n",
    "setup_orekit_curdir()"
   ]
  },
  {
   "cell_type": "markdown",
   "metadata": {},
   "source": [
    "Import station data from file"
   ]
  },
  {
   "cell_type": "code",
   "execution_count": 4,
   "metadata": {},
   "outputs": [],
   "source": [
    "import crdUtils\n",
    "stationData = crdUtils.parseCrdFile('SLRF2014_POS+VEL_2030.0_180504.snx')"
   ]
  },
  {
   "cell_type": "markdown",
   "metadata": {},
   "source": [
    "The orbit determination needs a first guess. For this, we use Two-Line Elements. Retrieving the latest TLE prior to the beginning of the orbit determination. It is important to have a \"fresh\" TLE, because the newer the TLE, the better the orbit estimation."
   ]
  },
  {
   "cell_type": "code",
   "execution_count": 5,
   "metadata": {},
   "outputs": [
    {
     "name": "stdout",
     "output_type": "stream",
     "text": [
      "1 42829U 17042E   18194.87572169 +.00000240 +00000-0 +29796-4 0  9990\n",
      "2 42829 097.5943 096.2213 0015726 108.7371 251.5556 14.90835887054309\n"
     ]
    }
   ],
   "source": [
    "rawTle = st.tle(norad_cat_id=noradId, epoch='<{}'.format(odDate), orderby='epoch desc', limit=1, format='tle')\n",
    "tleLine1 = rawTle.split('\\n')[0]\n",
    "tleLine2 = rawTle.split('\\n')[1]\n",
    "print(tleLine1)\n",
    "print(tleLine2)"
   ]
  },
  {
   "cell_type": "markdown",
   "metadata": {},
   "source": [
    "Setting up Orekit frames and models"
   ]
  },
  {
   "cell_type": "code",
   "execution_count": 6,
   "metadata": {},
   "outputs": [],
   "source": [
    "from org.orekit.frames import FramesFactory\n",
    "from org.orekit.utils import IERSConventions\n",
    "tod = FramesFactory.getTOD(IERSConventions.IERS_2010, False) # Taking tidal effects into account when interpolating EOP parameters\n",
    "itrf = FramesFactory.getITRF(IERSConventions.IERS_2010, False)\n",
    "from org.orekit.models.earth import ReferenceEllipsoid\n",
    "wgs84Ellipsoid = ReferenceEllipsoid.getWgs84(itrf)"
   ]
  },
  {
   "cell_type": "markdown",
   "metadata": {},
   "source": [
    "Setting up the propagator from the initial TLEs"
   ]
  },
  {
   "cell_type": "code",
   "execution_count": 7,
   "metadata": {},
   "outputs": [],
   "source": [
    "from org.orekit.propagation.analytical.tle import TLE\n",
    "orekitTle = TLE(tleLine1, tleLine2)\n",
    "\n",
    "from org.orekit.attitudes import NadirPointing\n",
    "nadirPointing = NadirPointing(tod, wgs84Ellipsoid)\n",
    "\n",
    "from org.orekit.propagation.analytical.tle import SGP4\n",
    "sgp4Propagator = SGP4(orekitTle, nadirPointing, sc_mass)\n",
    "\n",
    "tleInitialState = sgp4Propagator.getInitialState()\n",
    "tleEpoch = tleInitialState.getDate()\n",
    "tleOrbit_TEME = tleInitialState.getOrbit()\n",
    "tlePV_TOD = tleOrbit_TEME.getPVCoordinates(tod)\n",
    "\n",
    "from org.orekit.orbits import CartesianOrbit\n",
    "tleOrbit_TOD = CartesianOrbit(tlePV_TOD, tod, wgs84Ellipsoid.getGM())\n",
    "\n",
    "from org.orekit.propagation.conversion import DormandPrince853IntegratorBuilder\n",
    "integratorBuilder = DormandPrince853IntegratorBuilder(prop_min_step, prop_max_step, prop_position_error)\n",
    "\n",
    "from org.orekit.propagation.conversion import NumericalPropagatorBuilder\n",
    "from org.orekit.orbits import PositionAngle\n",
    "propagatorBuilder = NumericalPropagatorBuilder(tleOrbit_TOD,\n",
    "                                               integratorBuilder, PositionAngle.MEAN, estimator_position_scale)\n",
    "propagatorBuilder.setMass(sc_mass)\n",
    "propagatorBuilder.setAttitudeProvider(nadirPointing)"
   ]
  },
  {
   "cell_type": "markdown",
   "metadata": {},
   "source": [
    "Adding perturbation forces to the propagator"
   ]
  },
  {
   "cell_type": "code",
   "execution_count": 10,
   "metadata": {},
   "outputs": [],
   "source": [
    "# Earth gravity field with degree 8 and order 8\n",
    "from org.orekit.forces.gravity.potential import GravityFieldFactory\n",
    "gravityProvider_8_8 = GravityFieldFactory.getConstantNormalizedProvider(8,8)\n",
    "from org.orekit.forces.gravity import HolmesFeatherstoneAttractionModel\n",
    "gravityAttractionModel = HolmesFeatherstoneAttractionModel(itrf, gravityProvider_8_8)\n",
    "propagatorBuilder.addForceModel(gravityAttractionModel)"
   ]
  },
  {
   "cell_type": "markdown",
   "metadata": {},
   "source": [
    "Setting up the estimator"
   ]
  },
  {
   "cell_type": "code",
   "execution_count": 11,
   "metadata": {},
   "outputs": [],
   "source": [
    "from org.hipparchus.linear import QRDecomposer\n",
    "matrixDecomposer = QRDecomposer(1e-11)\n",
    "from org.hipparchus.optim.nonlinear.vector.leastsquares import GaussNewtonOptimizer\n",
    "optimizer = GaussNewtonOptimizer(matrixDecomposer, False)\n",
    "\n",
    "from org.orekit.estimation.leastsquares import BatchLSEstimator\n",
    "estimator = BatchLSEstimator(optimizer, propagatorBuilder)\n",
    "estimator.setParametersConvergenceThreshold(estimator_parameters_convergence_threshold)\n",
    "estimator.setMaxIterations(estimator_max_iterations)\n",
    "estimator.setMaxEvaluations(estimator_max_evaluations)"
   ]
  },
  {
   "cell_type": "markdown",
   "metadata": {},
   "source": [
    "## Fetching range data\n",
    "Looking for laser ranging data prior to the OD date.\n",
    "\n",
    "The API only allows to look for data using the date formats 2018-07-1%, 2018-07-14% or 2018-07-14 0% for example. As a consequence, the search must be split into several days. The results are then sorted, and the observations which are outside of the date range are deleted."
   ]
  },
  {
   "cell_type": "code",
   "execution_count": 12,
   "metadata": {
    "scrolled": true
   },
   "outputs": [
    {
     "name": "stdout",
     "output_type": "stream",
     "text": [
      "Observation Id: 1694485  -  Station: 71050725  -  Date: 2018-07-13 03:59:00\n",
      "Observation Id: 1694575  -  Station: 71050725  -  Date: 2018-07-13 05:33:47\n",
      "Observation Id: 1694705  -  Station: 71240802  -  Date: 2018-07-13 09:03:01\n",
      "Observation Id: 1694604  -  Station: 79417701  -  Date: 2018-07-13 09:54:35\n",
      "Observation Id: 1696456  -  Station: 78272201  -  Date: 2018-07-13 10:00:13\n",
      "Observation Id: 1694844  -  Station: 70900513  -  Date: 2018-07-13 15:28:00\n",
      "Observation Id: 1694845  -  Station: 70900513  -  Date: 2018-07-13 15:29:16\n",
      "Observation Id: 1694846  -  Station: 70900513  -  Date: 2018-07-13 15:31:29\n",
      "Observation Id: 1696134  -  Station: 78393402  -  Date: 2018-07-13 21:41:25\n",
      "Observation Id: 1695218  -  Station: 18734901  -  Date: 2018-07-13 21:36:37\n",
      "Observation Id: 1696135  -  Station: 78393402  -  Date: 2018-07-13 23:17:15\n",
      "Observation Id: 1695114  -  Station: 78403501  -  Date: 2018-07-13 23:14:30\n"
     ]
    }
   ],
   "source": [
    "import requests\n",
    "import json\n",
    "search_args = {}\n",
    "search_args['username'] = username_edc\n",
    "search_args['password'] = password_edc\n",
    "search_args['action'] = 'data-query'\n",
    "search_args['data_type'] = 'NPT' # Normal pointing data\n",
    "search_args['satellite'] = cosparId\n",
    "\n",
    "station_args = {}\n",
    "station_args['username'] = username_edc\n",
    "station_args['password'] = password_edc\n",
    "station_args['action'] = 'station-info'\n",
    "\n",
    "datasetList = []\n",
    "\n",
    "for i in range(int(collectionDuration) + 1): # Making a request for each day\n",
    "    endDate = startCollectionDate + timedelta(days=i)\n",
    "    search_args['end_data_date'] = '{:%Y-%m-%d}%'.format(endDate)\n",
    "    \n",
    "    search_response = requests.post(url, data=search_args)\n",
    "\n",
    "    if search_response.status_code == 200:\n",
    "        search_data = json.loads(search_response.text)\n",
    "        \n",
    "        for observation in search_data:         \n",
    "            startDataDate = datetime.strptime(observation['start_data_date'], '%Y-%m-%d %H:%M:%S')\n",
    "            endDataDate = datetime.strptime(observation['end_data_date'], '%Y-%m-%d %H:%M:%S')\n",
    "            \n",
    "            if (startDataDate > startCollectionDate) and (endDataDate < odDate): # Only taking the values within the date range\n",
    "                                    \n",
    "                datasetList.append(observation)\n",
    "                print('Observation Id: {}  -  Station: {}  -  Date: {}'.format(observation['id'], observation['station'], observation['end_data_date']))\n",
    "                    \n",
    "    else:\n",
    "        print(search_response.status_code)\n",
    "        print(search_response.text)"
   ]
  },
  {
   "cell_type": "markdown",
   "metadata": {},
   "source": [
    "Downloading the list of observations."
   ]
  },
  {
   "cell_type": "code",
   "execution_count": 13,
   "metadata": {},
   "outputs": [
    {
     "name": "stdout",
     "output_type": "stream",
     "text": [
      "Transmit time: 2018-07-13 03:57:24.400532, receive time: 2018-07-13 03:57:24.408414\n",
      "Time of flight: 7.881081525 milliseconds, satellite range: 1181.3444010390692 kilometers\n",
      "\n",
      "Transmit time: 2018-07-13 05:30:26.000531, receive time: 2018-07-13 05:30:26.010555\n",
      "Time of flight: 10.02412035 milliseconds, satellite range: 1502.5778395071602 kilometers\n",
      "\n",
      "Transmit time: 2018-07-13 08:59:23.900465, receive time: 2018-07-13 08:59:23.906301\n",
      "Time of flight: 5.835816233999999 milliseconds, satellite range: 874.7668466135815 kilometers\n",
      "\n",
      "Transmit time: 2018-07-13 09:54:12.904000, receive time: 2018-07-13 09:54:12.910566\n",
      "Time of flight: 6.5653230944 milliseconds, satellite range: 984.1171740171709 kilometers\n",
      "\n",
      "Transmit time: 2018-07-13 09:56:25.407004, receive time: 2018-07-13 09:56:25.413120\n",
      "Time of flight: 6.116470962999999 milliseconds, satellite range: 916.8359321416985 kilometers\n",
      "\n",
      "Transmit time: 2018-07-13 09:56:39.187004, receive time: 2018-07-13 09:56:39.192790\n",
      "Time of flight: 5.786386369 milliseconds, satellite range: 867.3574962501025 kilometers\n",
      "\n",
      "Transmit time: 2018-07-13 09:56:56.292004, receive time: 2018-07-13 09:56:56.297468\n",
      "Time of flight: 5.4632504840000005 milliseconds, satellite range: 818.9206456340248 kilometers\n",
      "\n",
      "Transmit time: 2018-07-13 09:57:13.534004, receive time: 2018-07-13 09:57:13.539256\n",
      "Time of flight: 5.251274073 milliseconds, satellite range: 787.1461809881708 kilometers\n",
      "\n",
      "Transmit time: 2018-07-13 09:57:18.268004, receive time: 2018-07-13 09:57:18.273220\n",
      "Time of flight: 5.215083344 milliseconds, satellite range: 781.7213271863097 kilometers\n",
      "\n",
      "Transmit time: 2018-07-13 09:57:40.655004, receive time: 2018-07-13 09:57:40.660184\n",
      "Time of flight: 5.180227943999999 milliseconds, satellite range: 776.4966341660231 kilometers\n",
      "\n",
      "Transmit time: 2018-07-13 09:57:48.380004, receive time: 2018-07-13 09:57:48.385224\n",
      "Time of flight: 5.220838073 milliseconds, satellite range: 782.5839393623268 kilometers\n",
      "\n",
      "Transmit time: 2018-07-13 09:58:01.016004, receive time: 2018-07-13 09:58:01.021348\n",
      "Time of flight: 5.343533357999999 milliseconds, satellite range: 800.9754998999069 kilometers\n",
      "\n",
      "Transmit time: 2018-07-13 09:58:18.103004, receive time: 2018-07-13 09:58:18.108616\n",
      "Time of flight: 5.612522279 milliseconds, satellite range: 841.2959248005859 kilometers\n",
      "\n",
      "Transmit time: 2018-07-13 15:27:09.500606, receive time: 2018-07-13 15:27:09.511380\n",
      "Time of flight: 10.773991531 milliseconds, satellite range: 1614.9807017748365 kilometers\n",
      "\n",
      "Transmit time: 2018-07-13 15:28:24.800609, receive time: 2018-07-13 15:28:24.808793\n",
      "Time of flight: 8.183542214000001 milliseconds, satellite range: 1226.682117740911 kilometers\n",
      "\n",
      "Transmit time: 2018-07-13 15:30:41.400606, receive time: 2018-07-13 15:30:41.407336\n",
      "Time of flight: 6.730648708 milliseconds, satellite range: 1008.8988600529221 kilometers\n",
      "\n",
      "Transmit time: 2018-07-13 21:35:27.508564, receive time: 2018-07-13 21:35:27.517478\n",
      "Time of flight: 8.914071904 milliseconds, satellite range: 1336.1857634444502 kilometers\n",
      "\n",
      "Transmit time: 2018-07-13 21:35:37.143064, receive time: 2018-07-13 21:35:37.151774\n",
      "Time of flight: 8.709015166 milliseconds, satellite range: 1305.4485316872092 kilometers\n",
      "\n",
      "Transmit time: 2018-07-13 21:35:52.816264, receive time: 2018-07-13 21:35:52.824684\n",
      "Time of flight: 8.419260445 milliseconds, satellite range: 1262.0153916743618 kilometers\n",
      "\n",
      "Transmit time: 2018-07-13 21:36:07.967764, receive time: 2018-07-13 21:36:07.975960\n",
      "Time of flight: 8.195478952999999 milliseconds, satellite range: 1228.4713899035683 kilometers\n",
      "\n",
      "Transmit time: 2018-07-13 21:36:23.044164, receive time: 2018-07-13 21:36:23.052196\n",
      "Time of flight: 8.032507744 milliseconds, satellite range: 1204.0426202388974 kilometers\n",
      "\n",
      "Transmit time: 2018-07-13 21:36:37.678764, receive time: 2018-07-13 21:36:37.686698\n",
      "Time of flight: 7.934829201 milliseconds, satellite range: 1189.400974988983 kilometers\n",
      "\n",
      "Transmit time: 2018-07-13 21:36:50.647264, receive time: 2018-07-13 21:36:50.655164\n",
      "Time of flight: 7.899966838000001 milliseconds, satellite range: 1184.175238241254 kilometers\n",
      "\n",
      "Transmit time: 2018-07-13 21:37:07.330264, receive time: 2018-07-13 21:37:07.338192\n",
      "Time of flight: 7.927604472 milliseconds, satellite range: 1188.318015356336 kilometers\n",
      "\n",
      "Transmit time: 2018-07-13 21:37:20.640564, receive time: 2018-07-13 21:37:20.648572\n",
      "Time of flight: 8.007636913999999 milliseconds, satellite range: 1200.314576609797 kilometers\n",
      "\n",
      "Transmit time: 2018-07-13 21:37:37.878064, receive time: 2018-07-13 21:37:37.886250\n",
      "Time of flight: 8.185085468 milliseconds, satellite range: 1226.9134456959002 kilometers\n",
      "\n",
      "Transmit time: 2018-07-13 21:37:54.023564, receive time: 2018-07-13 21:37:54.031986\n",
      "Time of flight: 8.422415557999999 milliseconds, satellite range: 1262.4883312151305 kilometers\n",
      "\n",
      "Transmit time: 2018-07-13 21:38:06.192864, receive time: 2018-07-13 21:38:06.201508\n",
      "Time of flight: 8.643296047 milliseconds, satellite range: 1295.5974835759066 kilometers\n",
      "\n",
      "Transmit time: 2018-07-13 21:35:34.400143, receive time: 2018-07-13 21:35:34.406667\n",
      "Time of flight: 6.523539714 milliseconds, satellite range: 977.8540028603385 kilometers\n",
      "\n",
      "Transmit time: 2018-07-13 23:12:07.684064, receive time: 2018-07-13 23:12:07.691012\n",
      "Time of flight: 6.948643273 milliseconds, satellite range: 1041.5754232889176 kilometers\n",
      "\n",
      "Transmit time: 2018-07-13 23:12:23.494064, receive time: 2018-07-13 23:12:23.500914\n",
      "Time of flight: 6.850376534 milliseconds, satellite range: 1026.8456096766902 kilometers\n",
      "\n",
      "Transmit time: 2018-07-13 23:12:35.413564, receive time: 2018-07-13 23:12:35.420398\n",
      "Time of flight: 6.833475359 milliseconds, satellite range: 1024.3121872785212 kilometers\n",
      "\n",
      "Transmit time: 2018-07-13 23:12:58.095564, receive time: 2018-07-13 23:12:58.102502\n",
      "Time of flight: 6.937905625 milliseconds, satellite range: 1039.965890345388 kilometers\n",
      "\n",
      "Transmit time: 2018-07-13 23:13:05.315564, receive time: 2018-07-13 23:13:05.322572\n",
      "Time of flight: 7.007770137 milliseconds, satellite range: 1050.4383172351133 kilometers\n",
      "\n",
      "Transmit time: 2018-07-13 23:13:22.479964, receive time: 2018-07-13 23:13:22.487204\n",
      "Time of flight: 7.24057073 milliseconds, satellite range: 1085.334248234777 kilometers\n",
      "\n",
      "Transmit time: 2018-07-13 23:13:50.950864, receive time: 2018-07-13 23:13:50.958676\n",
      "Time of flight: 7.8122422920000005 milliseconds, satellite range: 1171.0256596051167 kilometers\n",
      "\n",
      "Transmit time: 2018-07-13 23:11:27.563818, receive time: 2018-07-13 23:11:27.569210\n",
      "Time of flight: 5.392798619000001 milliseconds, satellite range: 808.3601767445078 kilometers\n",
      "\n",
      "Transmit time: 2018-07-13 23:11:37.886818, receive time: 2018-07-13 23:11:37.891996\n",
      "Time of flight: 5.177089983 milliseconds, satellite range: 776.0262656453741 kilometers\n",
      "\n",
      "Transmit time: 2018-07-13 23:11:52.199107, receive time: 2018-07-13 23:11:52.204055\n",
      "Time of flight: 4.947028335 milliseconds, satellite range: 741.5408921726487 kilometers\n",
      "\n",
      "Transmit time: 2018-07-13 23:12:07.226346, receive time: 2018-07-13 23:12:07.231148\n",
      "Time of flight: 4.802977331 milliseconds, satellite range: 719.9481898893848 kilometers\n",
      "\n",
      "Transmit time: 2018-07-13 23:12:21.856787, receive time: 2018-07-13 23:12:21.861555\n",
      "Time of flight: 4.767204521 milliseconds, satellite range: 714.5859805696513 kilometers\n",
      "\n",
      "Transmit time: 2018-07-13 23:12:35.896820, receive time: 2018-07-13 23:12:35.901652\n",
      "Time of flight: 4.832070142 milliseconds, satellite range: 724.3090925492946 kilometers\n",
      "\n",
      "Transmit time: 2018-07-13 23:12:50.259183, receive time: 2018-07-13 23:12:50.264177\n",
      "Time of flight: 4.994977964 milliseconds, satellite range: 748.7283607416978 kilometers\n",
      "\n",
      "Transmit time: 2018-07-13 23:13:04.784079, receive time: 2018-07-13 23:13:04.789329\n",
      "Time of flight: 5.2497693430000005 milliseconds, satellite range: 786.9206276355076 kilometers\n",
      "\n",
      "Transmit time: 2018-07-13 23:14:09.594490, receive time: 2018-07-13 23:14:09.601654\n",
      "Time of flight: 7.164874184 milliseconds, satellite range: 1073.9876214410522 kilometers\n",
      "\n",
      "Transmit time: 2018-07-13 23:14:23.505205, receive time: 2018-07-13 23:14:23.512887\n",
      "Time of flight: 7.682112772999999 milliseconds, satellite range: 1151.5197354254328 kilometers\n",
      "\n",
      "Transmit time: 2018-07-13 23:14:30.986053, receive time: 2018-07-13 23:14:30.994023\n",
      "Time of flight: 7.969939602000001 milliseconds, satellite range: 1194.663891697561 kilometers\n",
      "\n"
     ]
    }
   ],
   "source": [
    "from orekit.pyhelpers import *\n",
    "from org.orekit.estimation.measurements import Range\n",
    "\n",
    "dl_args = {}\n",
    "dl_args['username'] = username_edc\n",
    "dl_args['password'] = password_edc\n",
    "dl_args['action'] = 'data-download'\n",
    "dl_args['data_type'] = 'NPT'\n",
    "\n",
    "#import pandas as pd\n",
    "#rangeSeries = pd.Series()\n",
    "\n",
    "for dataset in datasetList:\n",
    "    dl_args['id'] = dataset['id']\n",
    "    dl_response = requests.post(url, data=dl_args)\n",
    "\n",
    "    if dl_response.status_code == 200:\n",
    "        \"\"\" convert json string in python list \"\"\"\n",
    "        data = json.loads(dl_response.text)\n",
    "        #print(json.dumps(data, indent=4, sort_keys=True))\n",
    "        \n",
    "        currentLine = ''\n",
    "        i = 0\n",
    "        n = len(data)\n",
    "\n",
    "        while (not currentLine.lower().startswith('h4')) and i < n: # Reading lines until the H4 header\n",
    "            currentLine = data[i]\n",
    "            i += 1\n",
    "            \n",
    "        #print(currentLine)\n",
    "\n",
    "        lineData = currentLine.split() # Reading day in H4 header\n",
    "        y = int(lineData[2])\n",
    "        m = int(lineData[3])\n",
    "        d = int(lineData[4])\n",
    "        from datetime import datetime\n",
    "        from datetime import timedelta\n",
    "        measurementDay = datetime(y, m, d)\n",
    "\n",
    "        while (not currentLine.startswith('11')) and i < n: # Reading lines until the start of normal point data\n",
    "            currentLine = data[i]\n",
    "            i += 1\n",
    "\n",
    "        while currentLine.startswith('11') and i < n: # Reading until the end of normal point data\n",
    "            lineData = currentLine.split()\n",
    "            timeOfDay = float(lineData[1])\n",
    "            timeOfFlight = float(lineData[2])\n",
    "            timestampType = int(lineData[4])\n",
    "\n",
    "            r = c * timeOfFlight / 2\n",
    "\n",
    "            if timestampType == 1:\n",
    "                transmitTime = measurementDay + timedelta(seconds=(timeOfDay - timeOfFlight/2))\n",
    "            else:\n",
    "                transmitTime = measurementDay + timedelta(seconds=timeOfDay)\n",
    "\n",
    "            bounceTime = transmitTime + timedelta(seconds=timeOfFlight/2)\n",
    "            receiveTime = bounceTime + timedelta(seconds=timeOfFlight/2)\n",
    "            \n",
    "            #rangeSeries[receiveTime] = r\n",
    "\n",
    "            print('Transmit time: {}, receive time: {}'.format(transmitTime, receiveTime))\n",
    "            print('Time of flight: {} milliseconds, satellite range: {} kilometers'.format(timeOfFlight*1000, r/1000))\n",
    "            print('')\n",
    "            \n",
    "            # Creating Orekit Range object\n",
    "            orekitRange = Range(stationData[dataset['station']], \n",
    "                                datetime_to_absolutedate(receiveTime),\n",
    "                                r,\n",
    "                                range_sigma,\n",
    "                                range_weight\n",
    "                               ) # Uses date of signal reception; https://www.orekit.org/static/apidocs/org/orekit/estimation/measurements/Range.html\n",
    "            estimator.addMeasurement(orekitRange)\n",
    "            \n",
    "            currentLine = data[i]\n",
    "            i += 1\n",
    "            \n",
    "    else:\n",
    "        print(dl_response.status_code)\n",
    "        print(dl_response.text)"
   ]
  },
  {
   "cell_type": "markdown",
   "metadata": {},
   "source": [
    "## Performing the OD\n",
    "Estimate the orbit. This step can take a long time."
   ]
  },
  {
   "cell_type": "code",
   "execution_count": 14,
   "metadata": {},
   "outputs": [],
   "source": [
    "estimatedPropagatorArray = estimator.estimate()"
   ]
  },
  {
   "cell_type": "markdown",
   "metadata": {},
   "source": [
    "Getting information about the orbit solution"
   ]
  },
  {
   "cell_type": "code",
   "execution_count": 15,
   "metadata": {},
   "outputs": [
    {
     "name": "stdout",
     "output_type": "stream",
     "text": [
      "Cartesian parameters: {2018-07-13T21:01:02.354, P(-756483.5932360343, 6938690.633271252, -1945.7093627242625), V(994.0963011356076, 90.88624006903017, 7490.7303708617055), A(0.8867621305972999, -8.133643802100709, 0.002280791540543215)}\n",
      "Cartesian parameters: {2018-07-13T21:01:02.354, P(-756013.3353540198, 6938932.7763266545, 2.9769766401881617), V(994.2334366486898, 88.90269863879513, 7490.528869869209), A(0.8861395072920815, -8.133272499019206, -3.48936086478704E-6)}\n"
     ]
    }
   ],
   "source": [
    "estimatedPropagator = estimatedPropagatorArray[0]\n",
    "estimatedInitialState = estimatedPropagator.getInitialState()\n",
    "estimatedOrbit_init = estimatedInitialState.getOrbit()\n",
    "\n",
    "estimatedPV_init = estimatedOrbit_init.getPVCoordinates()\n",
    "print(estimatedOrbit_init)\n",
    "print(tleOrbit_TOD)\n",
    "estimatedPos_init = estimatedPV_init.getPosition().toArray()\n",
    "estimatedVel_init = estimatedPV_init.getVelocity().toArray()\n",
    "covarianceMatrix = estimator.getPhysicalCovariances(1.0e-10).getData()"
   ]
  },
  {
   "cell_type": "markdown",
   "metadata": {},
   "source": [
    "## Analyzing the results\n",
    "Getting the estimated and measured ranges."
   ]
  },
  {
   "cell_type": "code",
   "execution_count": 16,
   "metadata": {},
   "outputs": [],
   "source": [
    "propagatorParameters   = estimator.getPropagatorParametersDrivers(True)\n",
    "measurementsParameters = estimator.getMeasurementsParametersDrivers(True)\n",
    "\n",
    "lastEstimations = estimator.getLastEstimations()\n",
    "valueSet = lastEstimations.values()\n",
    "estimatedMeasurements = valueSet.toArray()\n",
    "keySet = lastEstimations.keySet()\n",
    "realMeasurements = keySet.toArray()\n",
    "\n",
    "from org.orekit.estimation.measurements import EstimatedMeasurement\n",
    "from org.orekit.estimation.measurements import Range\n",
    "\n",
    "import pandas as pd\n",
    "observedRangeSeries = pd.Series()\n",
    "estimatedRangeSeries = pd.Series()\n",
    "\n",
    "for estMeas in estimatedMeasurements:\n",
    "    estMeas = EstimatedMeasurement.cast_(estMeas)\n",
    "    observedValue = estMeas.getObservedValue()\n",
    "    estimatedValue = estMeas.getEstimatedValue()\n",
    "    pyDateTime = absolutedate_to_datetime(estMeas.date)\n",
    "    observedRangeSeries[pyDateTime] = observedValue[0]\n",
    "    estimatedRangeSeries[pyDateTime] = estimatedValue[0]"
   ]
  },
  {
   "cell_type": "markdown",
   "metadata": {},
   "source": [
    "Plotting residuals"
   ]
  },
  {
   "cell_type": "code",
   "execution_count": 18,
   "metadata": {},
   "outputs": [
    {
     "data": {
      "image/png": "[encoded data removed]",
      "text/plain": [
       "<Figure size 432x288 with 1 Axes>"
      ]
     },
     "metadata": {
      "needs_background": "light"
     },
     "output_type": "display_data"
    }
   ],
   "source": [
    "%matplotlib inline\n",
    "residuals = observedRangeSeries - estimatedRangeSeries\n",
    "import matplotlib.pyplot as plt\n",
    "plt.scatter(residuals.index, residuals)\n",
    "plt.xlim(startCollectionDate, odDate)\n",
    "plt.xlabel('Datetime')\n",
    "plt.ylabel('Residuals (m)')\n",
    "plt.show()"
   ]
  },
  {
   "cell_type": "markdown",
   "metadata": {},
   "source": [
    "## Propagating the solution \n",
    "Propagating the solution and saving the PV coordinates"
   ]
  },
  {
   "cell_type": "code",
   "execution_count": 19,
   "metadata": {},
   "outputs": [],
   "source": [
    "dt = 30.0\n",
    "date_start = datetime_to_absolutedate(startCollectionDate)\n",
    "date_end = datetime_to_absolutedate(odDate)\n",
    "date_current = date_start\n",
    "\n",
    "while date_current.compareTo(date_end):\n",
    "    PV = estimatedPropagator.getPVCoordinates(date_current, itrf)\n",
    "    date_current = date_current.shiftedBy(dt)"
   ]
  },
  {
   "cell_type": "code",
   "execution_count": null,
   "metadata": {},
   "outputs": [],
   "source": []
  }
 ],
 "metadata": {
  "kernelspec": {
   "display_name": "Python 3",
   "language": "python",
   "name": "python3"
  },
  "language_info": {
   "codemirror_mode": {
    "name": "ipython",
    "version": 3
   },
   "file_extension": ".py",
   "mimetype": "text/x-python",
   "name": "python",
   "nbconvert_exporter": "python",
   "pygments_lexer": "ipython3",
   "version": "3.7.2"
  }
 },
 "nbformat": 4,
 "nbformat_minor": 2
}
