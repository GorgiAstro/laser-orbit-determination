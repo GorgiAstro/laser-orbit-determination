{
 "cells": [
  {
   "cell_type": "markdown",
   "metadata": {},
   "source": [
    "# Orbit determination example\n",
    "This notebook does the following:\n",
    "* Download an orbit first guess from SpaceTrack\n",
    "* Download laser ranging data\n",
    "* Feed the data to Orekit\n",
    "* Estimate the orbit\n",
    "* Propagate and compare the orbit to the first guess"
   ]
  },
  {
   "cell_type": "markdown",
   "metadata": {},
   "source": [
    "Two types of laser ranging data can be chosen (see below):\n",
    "\n",
    "* Normal point data: https://ilrs.cddis.eosdis.nasa.gov/data_and_products/data/npt/index.html\n",
    "* Full rate data: https://ilrs.cddis.eosdis.nasa.gov/data_and_products/data/frt/index.html\n",
    "    * This will improve the orbit estimation\n",
    "    * Caution, this format involves large quantities of data\n",
    "    * Caution 2, this data is unfiltered, therefore there can be a superposition of two range curves if two retro-reflectors on the satellite are visible by the station at the same time"
   ]
  },
  {
   "cell_type": "markdown",
   "metadata": {},
   "source": [
    "## OD parameters\n",
    "First, some parameters need to be defined for the orbit determination:\n",
    "* Satellite ID in NORAD, COSPAR and SIC code format. These IDs can be found here: https://edc.dgfi.tum.de/en/satellites/\n",
    "* Spacecraft mass: important for the drag term\n",
    "* Measurement weights: used to weight certain measurements more than others during the orbit estimation. Here, we only have range measurements and we do not know the confidence associated to these measurements, so all weights are identical\n",
    "* OD date: date at which the orbit will be estimated. \n",
    "* Data collection duration: for example, if equals 2 days, the laser data from the 2 days before the OD date will be used to estimate the orbit. This value is an important trade-off for the quality of the orbit determination:\n",
    "    * The longer the duration, the more ranging data is available, which can increase the quality of the estimation\n",
    "    * The longer the duration, the longer the orbit must be propagated, and the higher the covariance because of the orbit perturbations such as the gravity field, drag, Sun, Moon, etc."
   ]
  },
  {
   "cell_type": "markdown",
   "metadata": {},
   "source": [
    "Satellite parameters"
   ]
  },
  {
   "cell_type": "code",
   "execution_count": null,
   "metadata": {},
   "outputs": [],
   "source": [
    "sat_list = {    \n",
    "    'calipso': {\n",
    "        'norad_id': 29108,  # For Space-Track TLE queries\n",
    "        'mass': 500.0, # kg; https://atrain.nasa.gov/publications/CALIPSO.pdf\n",
    "        'cross_section': 1.84*2.31, # m2;\n",
    "        'cd': 2.0, # TODO: compute proper value\n",
    "        'cr': 1.0  # TODO: compute proper value\n",
    "    }\n",
    "}\n",
    "\n",
    "sc_name = 'calipso'  # Change the name to select a different satellite in the dict"
   ]
  },
  {
   "cell_type": "markdown",
   "metadata": {},
   "source": [
    "Orbit determination parameters"
   ]
  },
  {
   "cell_type": "code",
   "execution_count": null,
   "metadata": {},
   "outputs": [],
   "source": [
    "range_weight = 1.0 # Will be normalized later (i.e divided by the number of observations)\n",
    "range_sigma = 1.0 # Estimated covariance of the range measurements, in meters\n",
    "\n",
    "import numpy as np\n",
    "\n",
    "from datetime import datetime\n",
    "odDate = datetime(2021, 4, 15, 0, 0, 0) # Beginning of the orbit determination\n",
    "collectionDuration = 0.1 # days\n",
    "from datetime import timedelta\n",
    "startCollectionDate = odDate + timedelta(days=-collectionDuration)\n",
    "\n",
    "# Orbit propagator parameters\n",
    "prop_min_step = 0.001 # s\n",
    "prop_max_step = 300.0 # s\n",
    "prop_position_error = 1.0 # m\n",
    "\n",
    "# Estimator parameters\n",
    "estimator_position_scale = 1.0 # m\n",
    "estimator_convergence_thres = 1e-2\n",
    "estimator_max_iterations = 30\n",
    "estimator_max_evaluations = 40"
   ]
  },
  {
   "cell_type": "markdown",
   "metadata": {},
   "source": [
    "## API credentials\n",
    "The following sets up the account for SpaceTrack (for orbit data).\n",
    "* A SpaceTrack account is required, it can be created for free at: https://www.space-track.org/auth/createAccount"
   ]
  },
  {
   "cell_type": "code",
   "execution_count": null,
   "metadata": {},
   "outputs": [],
   "source": [
    "# Space-Track\n",
    "identity_st = input('Enter SpaceTrack username')\n",
    "import getpass\n",
    "password_st = getpass.getpass(prompt='Enter SpaceTrack password for account {}'.format(identity_st))\n",
    "import spacetrack.operators as op\n",
    "from spacetrack import SpaceTrackClient\n",
    "st = SpaceTrackClient(identity=identity_st, password=password_st)"
   ]
  },
  {
   "cell_type": "markdown",
   "metadata": {},
   "source": [
    "## Downloading CALIPSO range data file"
   ]
  },
  {
   "cell_type": "markdown",
   "metadata": {},
   "source": [
    "Finding the nearest date at which a weekly data file is available."
   ]
  },
  {
   "cell_type": "code",
   "execution_count": null,
   "metadata": {},
   "outputs": [],
   "source": [
    "from datetime import timedelta\n",
    "reference_date = datetime(2015, 1, 7)\n",
    "delta_time = startCollectionDate - reference_date\n",
    "delta_weeks = int(delta_time.days / 7)\n",
    "week_start = reference_date + timedelta(weeks=delta_weeks)"
   ]
  },
  {
   "cell_type": "code",
   "execution_count": null,
   "metadata": {},
   "outputs": [],
   "source": [
    "import requests\n",
    "import urllib.request\n",
    "\n",
    "filename = f'CPSO_10second_GT_{week_start:%Y_%m_%d}.txt'\n",
    "target_url = f'https://www-calipso.larc.nasa.gov/data/TOOLS/overpass/coords/{filename}'\n",
    "urllib.request.urlretrieve(target_url, filename)\n",
    "#response = requests.get(target_url)\n",
    "#data = response.text\n",
    "#print(data[0:100])"
   ]
  },
  {
   "cell_type": "code",
   "execution_count": null,
   "metadata": {},
   "outputs": [],
   "source": [
    "import pandas as pd\n",
    "\n",
    "#variable space separator\n",
    "df = pd.read_csv(\n",
    "    filename,\n",
    "    sep = '\\s\\s+',\n",
    "    skiprows=5,\n",
    "    index_col=0,\n",
    "    parse_dates=True,\n",
    "    engine='python'\n",
    ")\n",
    "df.columns = ['lat_deg', 'lon_deg', 'range_km']\n",
    "df.index.name = 'datetime_utc'\n",
    "#display(df)\n",
    "\n",
    "usable_df = df.loc[startCollectionDate:odDate]\n",
    "decimation_factor = 10\n",
    "usable_df = usable_df.iloc[::decimation_factor, :]\n",
    "display(usable_df)"
   ]
  },
  {
   "cell_type": "markdown",
   "metadata": {},
   "source": [
    "## Setting up models\n",
    "Initializing Orekit and JVM"
   ]
  },
  {
   "cell_type": "code",
   "execution_count": null,
   "metadata": {},
   "outputs": [],
   "source": [
    "import orekit\n",
    "orekit.initVM()\n",
    "\n",
    "# Modified from https://gitlab.orekit.org/orekit-labs/python-wrapper/blob/master/python_files/pyhelpers.py\n",
    "from java.io import File\n",
    "from org.orekit.data import DataProvidersManager, DirectoryCrawler\n",
    "from orekit import JArray\n",
    "\n",
    "orekit_data_dir = 'orekit-data'\n",
    "DM = DataProvidersManager.getInstance()\n",
    "datafile = File(orekit_data_dir)\n",
    "if not datafile.exists():\n",
    "    print('Directory :', datafile.absolutePath, ' not found')\n",
    "\n",
    "crawler = DirectoryCrawler(datafile)\n",
    "DM.clearProviders()\n",
    "DM.addProvider(crawler)"
   ]
  },
  {
   "cell_type": "markdown",
   "metadata": {},
   "source": [
    "The orbit determination needs a first guess. For this, we use Two-Line Elements. Retrieving the latest TLE prior to the beginning of the orbit determination. It is important to have a \"fresh\" TLE, because the newer the TLE, the better the orbit estimation."
   ]
  },
  {
   "cell_type": "code",
   "execution_count": null,
   "metadata": {},
   "outputs": [],
   "source": [
    "rawTle = st.tle(norad_cat_id=sat_list[sc_name]['norad_id'], epoch='<{}'.format(odDate), orderby='epoch desc', limit=1, format='tle')\n",
    "tleLine1 = rawTle.split('\\n')[0]\n",
    "tleLine2 = rawTle.split('\\n')[1]\n",
    "print(tleLine1)\n",
    "print(tleLine2)"
   ]
  },
  {
   "cell_type": "markdown",
   "metadata": {},
   "source": [
    "Setting up Orekit frames and models"
   ]
  },
  {
   "cell_type": "code",
   "execution_count": null,
   "metadata": {},
   "outputs": [],
   "source": [
    "from org.orekit.utils import Constants as orekit_constants\n",
    "\n",
    "from org.orekit.frames import FramesFactory, ITRFVersion\n",
    "from org.orekit.utils import IERSConventions\n",
    "tod = FramesFactory.getTOD(IERSConventions.IERS_2010, False) # Taking tidal effects into account when interpolating EOP parameters\n",
    "gcrf = FramesFactory.getGCRF()\n",
    "itrf = FramesFactory.getITRF(IERSConventions.IERS_2010, False)\n",
    "#itrf = FramesFactory.getITRF(ITRFVersion.ITRF_2014, IERSConventions.IERS_2010, False)\n",
    "# Selecting frames to use for OD\n",
    "eci = gcrf\n",
    "ecef = itrf\n",
    "\n",
    "from org.orekit.models.earth import ReferenceEllipsoid\n",
    "wgs84Ellipsoid = ReferenceEllipsoid.getWgs84(ecef)\n",
    "from org.orekit.bodies import CelestialBodyFactory\n",
    "moon = CelestialBodyFactory.getMoon()\n",
    "sun = CelestialBodyFactory.getSun()\n",
    "\n",
    "from org.orekit.time import AbsoluteDate, TimeScalesFactory\n",
    "utc = TimeScalesFactory.getUTC()\n",
    "mjd_utc_epoch = AbsoluteDate(1858, 11, 17, 0, 0, 0.0, utc)"
   ]
  },
  {
   "cell_type": "markdown",
   "metadata": {},
   "source": [
    "Setting up the propagator from the initial TLEs"
   ]
  },
  {
   "cell_type": "code",
   "execution_count": null,
   "metadata": {},
   "outputs": [],
   "source": [
    "from org.orekit.propagation.analytical.tle import TLE\n",
    "orekitTle = TLE(tleLine1, tleLine2)\n",
    "\n",
    "from org.orekit.attitudes import NadirPointing\n",
    "nadirPointing = NadirPointing(eci, wgs84Ellipsoid)\n",
    "\n",
    "from org.orekit.propagation.analytical.tle import SGP4\n",
    "sgp4Propagator = SGP4(orekitTle, nadirPointing, sat_list[sc_name]['mass'])\n",
    "\n",
    "tleInitialState = sgp4Propagator.getInitialState()\n",
    "tleEpoch = tleInitialState.getDate()\n",
    "tleOrbit_TEME = tleInitialState.getOrbit()\n",
    "tlePV_ECI = tleOrbit_TEME.getPVCoordinates(eci)\n",
    "\n",
    "from org.orekit.orbits import CartesianOrbit\n",
    "tleOrbit_ECI = CartesianOrbit(tlePV_ECI, eci, wgs84Ellipsoid.getGM())\n",
    "\n",
    "from org.orekit.propagation.conversion import DormandPrince853IntegratorBuilder\n",
    "integratorBuilder = DormandPrince853IntegratorBuilder(prop_min_step, prop_max_step, prop_position_error)\n",
    "\n",
    "from org.orekit.propagation.conversion import NumericalPropagatorBuilder\n",
    "from org.orekit.orbits import PositionAngle\n",
    "propagatorBuilder = NumericalPropagatorBuilder(tleOrbit_ECI,\n",
    "                                               integratorBuilder, PositionAngle.MEAN, estimator_position_scale)\n",
    "propagatorBuilder.setMass(sat_list[sc_name]['mass'])\n",
    "propagatorBuilder.setAttitudeProvider(nadirPointing)"
   ]
  },
  {
   "cell_type": "markdown",
   "metadata": {},
   "source": [
    "Adding perturbation forces to the propagator"
   ]
  },
  {
   "cell_type": "code",
   "execution_count": null,
   "metadata": {},
   "outputs": [],
   "source": [
    "# Earth gravity field with degree 64 and order 64\n",
    "from org.orekit.forces.gravity.potential import GravityFieldFactory\n",
    "gravityProvider = GravityFieldFactory.getConstantNormalizedProvider(64, 64)\n",
    "from org.orekit.forces.gravity import HolmesFeatherstoneAttractionModel\n",
    "gravityAttractionModel = HolmesFeatherstoneAttractionModel(ecef, gravityProvider)\n",
    "propagatorBuilder.addForceModel(gravityAttractionModel)\n",
    "\n",
    "# Moon and Sun perturbations\n",
    "from org.orekit.forces.gravity import ThirdBodyAttraction\n",
    "moon_3dbodyattraction = ThirdBodyAttraction(moon)\n",
    "propagatorBuilder.addForceModel(moon_3dbodyattraction)\n",
    "sun_3dbodyattraction = ThirdBodyAttraction(sun)\n",
    "propagatorBuilder.addForceModel(sun_3dbodyattraction)\n",
    "\n",
    "# Solar radiation pressure\n",
    "from org.orekit.forces.radiation import IsotropicRadiationSingleCoefficient\n",
    "isotropicRadiationSingleCoeff = IsotropicRadiationSingleCoefficient(sat_list[sc_name]['cross_section'], sat_list[sc_name]['cr']);\n",
    "from org.orekit.forces.radiation import SolarRadiationPressure\n",
    "solarRadiationPressure = SolarRadiationPressure(sun, wgs84Ellipsoid.getEquatorialRadius(),\n",
    "                                                isotropicRadiationSingleCoeff)\n",
    "propagatorBuilder.addForceModel(solarRadiationPressure)\n",
    "\n",
    "# Relativity\n",
    "from org.orekit.forces.gravity import Relativity\n",
    "relativity = Relativity(orekit_constants.EIGEN5C_EARTH_MU)\n",
    "propagatorBuilder.addForceModel(relativity)"
   ]
  },
  {
   "cell_type": "markdown",
   "metadata": {},
   "source": [
    "Adding atmospheric drag to the propagator"
   ]
  },
  {
   "cell_type": "code",
   "execution_count": null,
   "metadata": {},
   "outputs": [],
   "source": [
    "# Atmospheric drag\n",
    "\n",
    "# New CSSI loader for three-hourly atmospheric data\n",
    "from org.orekit.models.earth.atmosphere.data import CssiSpaceWeatherData\n",
    "cswl = CssiSpaceWeatherData(\"SpaceWeather-All-v1.2.txt\")\n",
    "\n",
    "from org.orekit.models.earth.atmosphere import NRLMSISE00\n",
    "atmosphere = NRLMSISE00(cswl, sun, wgs84Ellipsoid)\n",
    "#from org.orekit.forces.drag.atmosphere import DTM2000\n",
    "#atmosphere = DTM2000(msafe, sun, wgs84Ellipsoid)\n",
    "from org.orekit.forces.drag import IsotropicDrag\n",
    "isotropicDrag = IsotropicDrag(sat_list[sc_name]['cross_section'], sat_list[sc_name]['cd'])\n",
    "from org.orekit.forces.drag import DragForce\n",
    "dragForce = DragForce(atmosphere, isotropicDrag)\n",
    "propagatorBuilder.addForceModel(dragForce)"
   ]
  },
  {
   "cell_type": "markdown",
   "metadata": {},
   "source": [
    "Setting up the estimator"
   ]
  },
  {
   "cell_type": "code",
   "execution_count": null,
   "metadata": {},
   "outputs": [],
   "source": [
    "from org.hipparchus.linear import QRDecomposer\n",
    "matrixDecomposer = QRDecomposer(1e-11)\n",
    "from org.hipparchus.optim.nonlinear.vector.leastsquares import GaussNewtonOptimizer\n",
    "optimizer = GaussNewtonOptimizer(matrixDecomposer, False)\n",
    "\n",
    "from org.orekit.estimation.leastsquares import BatchLSEstimator\n",
    "estimator = BatchLSEstimator(optimizer, propagatorBuilder)\n",
    "estimator.setParametersConvergenceThreshold(estimator_convergence_thres)\n",
    "estimator.setMaxIterations(estimator_max_iterations)\n",
    "estimator.setMaxEvaluations(estimator_max_evaluations)"
   ]
  },
  {
   "cell_type": "markdown",
   "metadata": {},
   "source": [
    "Adding the measurements to the estimator"
   ]
  },
  {
   "cell_type": "code",
   "execution_count": null,
   "metadata": {},
   "outputs": [],
   "source": [
    "from orekit.pyhelpers import datetime_to_absolutedate, JArray\n",
    "from org.orekit.estimation.measurements import Range, AngularAzEl, ObservableSatellite, GroundStation\n",
    "from org.orekit.frames import TopocentricFrame \n",
    "from org.orekit.bodies import GeodeticPoint\n",
    "\n",
    "observableSatellite = ObservableSatellite(0) # Propagator index = 0\n",
    "\n",
    "for receiveTime, data in usable_df.iterrows():\n",
    "    ground_station = GroundStation(\n",
    "        TopocentricFrame(wgs84Ellipsoid, \n",
    "                         GeodeticPoint(\n",
    "                            float(np.deg2rad(data['lat_deg'])),\n",
    "                            float(np.deg2rad(data['lon_deg'])),\n",
    "                            0.0\n",
    "                         ), \n",
    "                         \"bla\"\n",
    "                        )\n",
    "    )\n",
    "    orekitRange = Range(ground_station, \n",
    "                        False, # One-way measurement\n",
    "                        datetime_to_absolutedate(receiveTime),\n",
    "                        float(data['range_km']*1e3),\n",
    "                        range_sigma,\n",
    "                        range_weight,\n",
    "                        observableSatellite\n",
    "                       ) # Uses date of signal reception; https://www.orekit.org/static/apidocs/org/orekit/estimation/measurements/Range.html\n",
    "    estimator.addMeasurement(orekitRange)"
   ]
  },
  {
   "cell_type": "markdown",
   "metadata": {},
   "source": [
    "## Performing the OD\n",
    "Estimate the orbit. This step can take a long time."
   ]
  },
  {
   "cell_type": "code",
   "execution_count": null,
   "metadata": {},
   "outputs": [],
   "source": [
    "estimatedPropagatorArray = estimator.estimate()"
   ]
  },
  {
   "cell_type": "markdown",
   "metadata": {},
   "source": [
    "## Propagating the estimated orbit"
   ]
  },
  {
   "cell_type": "code",
   "execution_count": null,
   "metadata": {},
   "outputs": [],
   "source": [
    "dt = 300.0\n",
    "date_start = datetime_to_absolutedate(startCollectionDate)\n",
    "date_start = date_start.shiftedBy(-86400.0)\n",
    "date_end = datetime_to_absolutedate(odDate)\n",
    "date_end = date_end.shiftedBy(86400.0) # Stopping 1 day after OD date\n",
    "\n",
    "# First propagating in ephemeris mode\n",
    "estimatedPropagator = estimatedPropagatorArray[0]\n",
    "estimatedInitialState = estimatedPropagator.getInitialState()\n",
    "actualOdDate = estimatedInitialState.getDate()\n",
    "estimatedPropagator.resetInitialState(estimatedInitialState)\n",
    "estimatedPropagator.setEphemerisMode()\n",
    "\n",
    "# Propagating from 1 day before data collection\n",
    "# To 1 week after orbit determination (for CPF generation)\n",
    "estimatedPropagator.propagate(date_start, datetime_to_absolutedate(odDate).shiftedBy(7 * 86400.0))\n",
    "bounded_propagator = estimatedPropagator.getGeneratedEphemeris()"
   ]
  },
  {
   "cell_type": "markdown",
   "metadata": {},
   "source": [
    "## Covariance analysis\n",
    "Creating the LVLH frame, computing the covariance matrix in both TOD and LVLH frames"
   ]
  },
  {
   "cell_type": "code",
   "execution_count": null,
   "metadata": {},
   "outputs": [],
   "source": [
    "# Creating the LVLH frame \n",
    "# It must be associated to the bounded propagator, not the original numerical propagator\n",
    "from org.orekit.frames import LocalOrbitalFrame\n",
    "from org.orekit.frames import LOFType\n",
    "lvlh = LocalOrbitalFrame(eci, LOFType.LVLH, bounded_propagator, 'LVLH')\n",
    "\n",
    "# Getting covariance matrix in ECI frame\n",
    "covMat_eci_java = estimator.getPhysicalCovariances(1.0e-10)\n",
    "\n",
    "# Converting matrix to LVLH frame\n",
    "# Getting an inertial frame aligned with the LVLH frame at this instant\n",
    "# The LVLH is normally not inertial, but this should not affect results too much\n",
    "# Reference: David Vallado, Covariance Transformations for Satellite Flight Dynamics Operations, 2003\n",
    "eci2lvlh_frozen = eci.getTransformTo(lvlh, actualOdDate).freeze() \n",
    "\n",
    "# Computing Jacobian\n",
    "from org.orekit.utils import CartesianDerivativesFilter\n",
    "from orekit.pyhelpers import JArray_double2D\n",
    "jacobianDoubleArray = JArray_double2D(6, 6)\n",
    "eci2lvlh_frozen.getJacobian(CartesianDerivativesFilter.USE_PV, jacobianDoubleArray)\n",
    "from org.hipparchus.linear import Array2DRowRealMatrix\n",
    "jacobian = Array2DRowRealMatrix(jacobianDoubleArray)\n",
    "# Applying Jacobian to convert matrix to lvlh\n",
    "covMat_lvlh_java = jacobian.multiply(\n",
    "    covMat_eci_java.multiply(jacobian.transpose()))\n",
    "\n",
    "# Converting the Java matrices to numpy\n",
    "import numpy as np\n",
    "covarianceMat_eci = np.matrix([covMat_eci_java.getRow(iRow) \n",
    "                              for iRow in range(0, covMat_eci_java.getRowDimension())])\n",
    "covarianceMat_lvlh = np.matrix([covMat_lvlh_java.getRow(iRow) \n",
    "                              for iRow in range(0, covMat_lvlh_java.getRowDimension())])"
   ]
  },
  {
   "cell_type": "markdown",
   "metadata": {},
   "source": [
    "Computing the position and velocity standard deviation "
   ]
  },
  {
   "cell_type": "code",
   "execution_count": null,
   "metadata": {},
   "outputs": [],
   "source": [
    "pos_std_crossTrack = np.sqrt(covarianceMat_lvlh[0,0])\n",
    "pos_std_alongTrack = np.sqrt(covarianceMat_lvlh[1,1])\n",
    "pos_std_outOfPlane = np.sqrt(covarianceMat_lvlh[2,2])\n",
    "print(f'Position std: cross-track {pos_std_crossTrack:.3e} m, along-track {pos_std_alongTrack:.3e} m, out-of-plane {pos_std_outOfPlane:.3e} m')\n",
    "\n",
    "vel_std_crossTrack = np.sqrt(covarianceMat_lvlh[3,3])\n",
    "vel_std_alongTrack = np.sqrt(covarianceMat_lvlh[4,4])\n",
    "vel_std_outOfPlane = np.sqrt(covarianceMat_lvlh[5,5])\n",
    "print(f'Velocity std: cross-track {vel_std_crossTrack:.3e} m/s, along-track {vel_std_alongTrack:.3e} m/s, out-of-plane {vel_std_outOfPlane:.3e} m/s')"
   ]
  },
  {
   "cell_type": "markdown",
   "metadata": {},
   "source": [
    "## CCSDS OPM\n",
    "Writing a CCSDS OPM message"
   ]
  },
  {
   "cell_type": "code",
   "execution_count": null,
   "metadata": {},
   "outputs": [],
   "source": [
    "sat_properties = {\n",
    "     'mass': sat_list[sc_name]['mass'],\n",
    "     'solar_rad_area': sat_list[sc_name]['cross_section'],\n",
    "     'solar_rad_coeff': sat_list[sc_name]['cd'],\n",
    "     'drag_area': sat_list[sc_name]['cross_section'],\n",
    "     'drag_coeff': sat_list[sc_name]['cr']\n",
    "}\n",
    "\n",
    "from ccsdsUtils import Ccsds\n",
    "ccsds_writer = Ccsds(originator='GOR', object_name=sc_name, object_id=sat_list[sc_name]['norad_id'], sat_properties=sat_properties)\n",
    "\n",
    "pv_eci_init = estimatedInitialState.getPVCoordinates()\n",
    "pos_eci_init = np.array(pv_eci_init.getPosition().toArray())\n",
    "vel_eci_init = np.array(pv_eci_init.getVelocity().toArray())\n",
    "\n",
    "from orekit.pyhelpers import absolutedate_to_datetime\n",
    "\n",
    "ccsds_writer.write_opm('OPM.txt', absolutedate_to_datetime(actualOdDate), pos_eci_init, vel_eci_init, covarianceMat_eci, 'EARTH', 'GCRF')"
   ]
  },
  {
   "cell_type": "markdown",
   "metadata": {},
   "source": [
    "## Analyzing residuals\n",
    "Getting the estimated and measured ranges."
   ]
  },
  {
   "cell_type": "code",
   "execution_count": null,
   "metadata": {},
   "outputs": [],
   "source": [
    "propagatorParameters   = estimator.getPropagatorParametersDrivers(True)\n",
    "measurementsParameters = estimator.getMeasurementsParametersDrivers(True)\n",
    "\n",
    "lastEstimations = estimator.getLastEstimations()\n",
    "valueSet = lastEstimations.values()\n",
    "estimatedMeasurements = valueSet.toArray()\n",
    "keySet = lastEstimations.keySet()\n",
    "realMeasurements = keySet.toArray()\n",
    "\n",
    "from org.orekit.estimation.measurements import EstimatedMeasurement\n",
    "\n",
    "import pandas as pd\n",
    "range_residuals = pd.DataFrame(columns=['range'])\n",
    "\n",
    "for estMeas, realMeas in zip(estimatedMeasurements, realMeasurements):\n",
    "    estMeas = EstimatedMeasurement.cast_(estMeas)\n",
    "    estimatedValue = estMeas.getEstimatedValue()\n",
    "    pyDateTime = absolutedate_to_datetime(estMeas.date)\n",
    "    \n",
    "    observedValue = Range.cast_(realMeas).getObservedValue()\n",
    "    range_residuals.loc[pyDateTime] = np.array(observedValue) - np.array(estimatedValue)\n",
    "        \n",
    "#display(range_residuals)"
   ]
  },
  {
   "cell_type": "markdown",
   "metadata": {},
   "source": [
    "Setting up Plotly for offline mode"
   ]
  },
  {
   "cell_type": "code",
   "execution_count": null,
   "metadata": {},
   "outputs": [],
   "source": [
    "import plotly.io as pio\n",
    "pio.renderers.default = 'jupyterlab+notebook+png'  # Uncomment for interactive plots\n",
    "#pio.renderers.default = 'png'"
   ]
  },
  {
   "cell_type": "markdown",
   "metadata": {},
   "source": [
    "Plotting range residuals"
   ]
  },
  {
   "cell_type": "code",
   "execution_count": null,
   "metadata": {},
   "outputs": [],
   "source": [
    "import plotly.graph_objs as go\n",
    "\n",
    "trace = go.Scattergl(\n",
    "    x=range_residuals.index, y=range_residuals['range'],\n",
    "    mode='markers',\n",
    "    name='Range'\n",
    ")\n",
    "\n",
    "data = [trace]\n",
    "\n",
    "layout = go.Layout(\n",
    "    title = 'Range residuals',\n",
    "    xaxis = dict(\n",
    "        title = 'Datetime UTC'\n",
    "    ),\n",
    "    yaxis = dict(\n",
    "        title = 'Range residual (m)'\n",
    "    )\n",
    ")\n",
    "\n",
    "fig = dict(data=data, layout=layout)\n",
    "\n",
    "pio.show(fig)"
   ]
  },
  {
   "cell_type": "markdown",
   "metadata": {},
   "source": [
    "## Propagating the solution \n",
    "Propagating the solution and:\n",
    "* Saving the PV coordinates from both the solution and the initial TLE guess.\n",
    "* Computing the difference in LVLH frame between the solution and the initial TLE guess.\n",
    "* Computing the difference in LVLH frame between the solution and the CPF file."
   ]
  },
  {
   "cell_type": "code",
   "execution_count": null,
   "metadata": {},
   "outputs": [],
   "source": [
    "# Propagating the bounded propagator to retrieve the intermediate states\n",
    "\n",
    "from slrDataUtils import orekitPV2dataframe\n",
    "\n",
    "PV_eci_df = pd.DataFrame()\n",
    "PV_ecef_df = pd.DataFrame()\n",
    "PV_tle_eci_df = pd.DataFrame()\n",
    "deltaPV_tle_lvlh_df = pd.DataFrame(columns=['x', 'y', 'z', 'pos_norm', 'vx', 'vy', 'vz', 'vel_norm'])\n",
    "deltaPV_cpf_lvlh_df = pd.DataFrame(columns=['x', 'y', 'z', 'norm'])\n",
    "\n",
    "# Saving all intermediate\n",
    "from java.util import ArrayList\n",
    "states_list = ArrayList()\n",
    "\n",
    "from org.hipparchus.geometry.euclidean.threed import Vector3D\n",
    "\n",
    "date_current = date_start\n",
    "while date_current.compareTo(date_end) <= 0:\n",
    "    datetime_current = absolutedate_to_datetime(date_current)    \n",
    "    spacecraftState = bounded_propagator.propagate(date_current)\n",
    "    \n",
    "    states_list.add(spacecraftState)\n",
    "    \n",
    "    PV_eci = spacecraftState.getPVCoordinates(eci)\n",
    "    PV_eci_df = PV_eci_df.append(orekitPV2dataframe(PV_eci, datetime_current))\n",
    "    \n",
    "    PV_ecef = spacecraftState.getPVCoordinates(ecef)\n",
    "    PV_ecef_df = PV_ecef_df.append(orekitPV2dataframe(PV_ecef, datetime_current))\n",
    "    \n",
    "    PV_tle_eci = sgp4Propagator.getPVCoordinates(date_current, eci)\n",
    "    PV_tle_eci_df = PV_tle_eci_df.append(orekitPV2dataframe(PV_tle_eci, datetime_current))\n",
    "    \n",
    "    '''\n",
    "    When getting PV coordinates using the SGP4 propagator in LVLH frame, \n",
    "    it is actually a \"delta\" from the PV coordinates resulting from the orbit determination\n",
    "    because this LVLH frame is centered on the satellite's current position based on the orbit determination\n",
    "    '''\n",
    "    deltaPV_lvlh = sgp4Propagator.getPVCoordinates(date_current, lvlh)\n",
    "    deltaPV_tle_lvlh_df.loc[datetime_current] = [deltaPV_lvlh.getPosition().getX(),\n",
    "                                                 deltaPV_lvlh.getPosition().getY(), \n",
    "                                                 deltaPV_lvlh.getPosition().getZ(),\n",
    "                                                 deltaPV_lvlh.getPosition().getNorm(),\n",
    "                                                 deltaPV_lvlh.getVelocity().getX(),\n",
    "                                                 deltaPV_lvlh.getVelocity().getY(), \n",
    "                                                 deltaPV_lvlh.getVelocity().getZ(),\n",
    "                                                 deltaPV_lvlh.getVelocity().getNorm()]\n",
    "    \n",
    "    \n",
    "    date_current = date_current.shiftedBy(dt)    "
   ]
  },
  {
   "cell_type": "code",
   "execution_count": null,
   "metadata": {},
   "outputs": [],
   "source": [
    "import numpy as np\n",
    "import plotly.graph_objs as go\n",
    "\n",
    "# Rectangles to visualise time window for orbit determination.\n",
    "\n",
    "od_window_rectangle =  {\n",
    "    'type': 'rect',\n",
    "    # x-reference is assigned to the x-values\n",
    "    'xref': 'x',\n",
    "    # y-reference is assigned to the plot paper [0,1]\n",
    "    'yref': 'paper',\n",
    "    'x0': startCollectionDate,\n",
    "    'y0': 0,\n",
    "    'x1': odDate,\n",
    "    'y1': 1,\n",
    "    'fillcolor': '#d3d3d3',\n",
    "    'opacity': 0.3,\n",
    "    'line': {\n",
    "        'width': 0,\n",
    "    }\n",
    "}"
   ]
  },
  {
   "cell_type": "markdown",
   "metadata": {},
   "source": [
    "## Comparison with TLE"
   ]
  },
  {
   "cell_type": "markdown",
   "metadata": {},
   "source": [
    "Plotting the components of the position different between the TLE and the estimation, in LVLH frame. The grey area represents the time window where range measurements were used to perform the orbit determination."
   ]
  },
  {
   "cell_type": "code",
   "execution_count": null,
   "metadata": {},
   "outputs": [],
   "source": [
    "import plotly.graph_objs as go\n",
    "\n",
    "traceX = go.Scattergl(\n",
    "    x = deltaPV_tle_lvlh_df['x'].index,\n",
    "    y = deltaPV_tle_lvlh_df['x'],\n",
    "    mode='lines',\n",
    "    name='Cross-Track'\n",
    ")\n",
    "\n",
    "traceY = go.Scattergl(\n",
    "    x = deltaPV_tle_lvlh_df['y'].index,\n",
    "    y = deltaPV_tle_lvlh_df['y'],\n",
    "    mode='lines',\n",
    "    name='Along-Track'\n",
    ")\n",
    "\n",
    "traceZ = go.Scattergl(\n",
    "    x = deltaPV_tle_lvlh_df['z'].index,\n",
    "    y = deltaPV_tle_lvlh_df['z'],\n",
    "    mode='lines',\n",
    "    name='Radial'\n",
    ")\n",
    "\n",
    "data = [traceX, traceY, traceZ]\n",
    "\n",
    "layout = go.Layout(\n",
    "    title = 'Delta position between TLE and estimation in LVLH frame',\n",
    "    xaxis = dict(\n",
    "        title = 'Datetime UTC'\n",
    "    ),\n",
    "    yaxis = dict(\n",
    "        title = 'Position difference (m)'\n",
    "    ),\n",
    "    shapes=[od_window_rectangle]\n",
    ")\n",
    "\n",
    "fig = dict(data=data, layout=layout)\n",
    "\n",
    "pio.show(fig)"
   ]
  },
  {
   "cell_type": "code",
   "execution_count": null,
   "metadata": {},
   "outputs": [],
   "source": []
  }
 ],
 "metadata": {
  "kernelspec": {
   "display_name": "Python 3",
   "language": "python",
   "name": "python3"
  },
  "language_info": {
   "codemirror_mode": {
    "name": "ipython",
    "version": 3
   },
   "file_extension": ".py",
   "mimetype": "text/x-python",
   "name": "python",
   "nbconvert_exporter": "python",
   "pygments_lexer": "ipython3",
   "version": "3.8.0"
  }
 },
 "nbformat": 4,
 "nbformat_minor": 4
}
