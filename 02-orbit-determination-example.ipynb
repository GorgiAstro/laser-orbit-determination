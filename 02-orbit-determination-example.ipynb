{
 "cells": [
  {
   "cell_type": "markdown",
   "metadata": {},
   "source": [
    "# Orbit determination example\n",
    "This notebook does the following:\n",
    "* Download an orbit first guess from SpaceTrack\n",
    "* Download laser ranging data\n",
    "* Feed the data to Orekit\n",
    "* Estimate the orbit\n",
    "* Propagate and compare the orbit to the first guess"
   ]
  },
  {
   "cell_type": "markdown",
   "metadata": {},
   "source": [
    "Two types of laser ranging data can be chosen (see below):\n",
    "\n",
    "* Normal point data: https://ilrs.cddis.eosdis.nasa.gov/data_and_products/data/npt/index.html\n",
    "* Full rate data: https://ilrs.cddis.eosdis.nasa.gov/data_and_products/data/frt/index.html\n",
    "    * This will improve the orbit estimation\n",
    "    * Caution, this format involves large quantities of data\n",
    "    * Caution 2, this data is unfiltered, therefore there can be a superposition of two range curves if two retro-reflectors on the satellite are visible by the station at the same time"
   ]
  },
  {
   "cell_type": "markdown",
   "metadata": {},
   "source": [
    "## OD parameters\n",
    "First, some parameters need to be defined for the orbit determination:\n",
    "* Satellite ID in NORAD, COSPAR and SIC code format. These IDs can be found here: https://edc.dgfi.tum.de/en/satellites/\n",
    "* Spacecraft mass: important for the drag term\n",
    "* Measurement weights: used to weight certain measurements more than others during the orbit estimation. Here, we only have range measurements and we do not know the confidence associated to these measurements, so all weights are identical\n",
    "* OD date: date at which the orbit will be estimated. \n",
    "* Data collection duration: for example, if equals 2 days, the laser data from the 2 days before the OD date will be used to estimate the orbit. This value is an important trade-off for the quality of the orbit determination:\n",
    "    * The longer the duration, the more ranging data is available, which can increase the quality of the estimation\n",
    "    * The longer the duration, the longer the orbit must be propagated, and the higher the covariance because of the orbit perturbations such as the gravity field, drag, Sun, Moon, etc."
   ]
  },
  {
   "cell_type": "markdown",
   "metadata": {},
   "source": [
    "Satellite parameters"
   ]
  },
  {
   "cell_type": "code",
   "execution_count": 1,
   "metadata": {},
   "outputs": [],
   "source": [
    "sat_list = {    \n",
    "    'envisat': {\n",
    "        'norad_id': 27386,  # For Space-Track TLE queries\n",
    "        'cospar_id': '0200901',  # For laser ranging data queries\n",
    "        'sic_id': '6179',  # For writing in CPF files\n",
    "        'mass': 8000.0, # kg; TODO: compute proper value\n",
    "        'cross_section': 100.0, # m2; TODO: compute proper value\n",
    "        'cd': 2.0, # TODO: compute proper value\n",
    "        'cr': 1.0  # TODO: compute proper value\n",
    "    },    \n",
    "    'lageos2': {\n",
    "        'norad_id': 22195,\n",
    "        'cospar_id': '9207002',\n",
    "        'sic_id': '5986',\n",
    "        'mass': 405.0, # kg\n",
    "        'cross_section': 0.2827, # m2\n",
    "        'cd': 2.0, # TODO: compute proper value\n",
    "        'cr': 1.0  # TODO: compute proper value\n",
    "    },\n",
    "    'technosat': {\n",
    "        'norad_id': 42829,\n",
    "        'cospar_id': '1704205',\n",
    "        'sic_id': '6203',\n",
    "        'mass': 20.0, # kg\n",
    "        'cross_section': 0.10, # m2,\n",
    "        'cd': 2.0, # TODO: compute proper value\n",
    "        'cr': 1.0  # TODO: compute proper value\n",
    "    },\n",
    "    'snet1': {\n",
    "        'norad_id': 43189,\n",
    "        'cospar_id': '1801410',\n",
    "        'sic_id': '6204',\n",
    "        'mass': 8.0, # kg\n",
    "        'cross_section': 0.07,\n",
    "        'cd': 2.0, # TODO: compute proper value\n",
    "        'cr': 1.0  # TODO: compute proper value\n",
    "    }\n",
    "}\n",
    "\n",
    "sc_name = 'technosat'  # Change the name to select a different satellite in the dict"
   ]
  },
  {
   "cell_type": "code",
   "execution_count": 2,
   "metadata": {},
   "outputs": [],
   "source": [
    "# Parameters\n",
    "range_weight = 1.0 # Will be normalized later (i.e divided by the number of observations)\n",
    "range_sigma = 1.0 # Estimated covariance of the range measurements, in meters\n",
    "\n",
    "from datetime import datetime\n",
    "odDate = datetime(2020, 2, 12) # Beginning of the orbit determination\n",
    "collectionDuration = 2 # days\n",
    "from datetime import timedelta\n",
    "startCollectionDate = odDate + timedelta(days=-collectionDuration)\n",
    "\n",
    "# Orbit propagator parameters\n",
    "prop_min_step = 0.001 # s\n",
    "prop_max_step = 300.0 # s\n",
    "prop_position_error = 10.0 # m\n",
    "\n",
    "# Estimator parameters\n",
    "estimator_position_scale = 1.0 # m\n",
    "estimator_convergence_thres = 1e-2\n",
    "estimator_max_iterations = 25\n",
    "estimator_max_evaluations = 35"
   ]
  },
  {
   "cell_type": "markdown",
   "metadata": {},
   "source": [
    "## API credentials\n",
    "The following sets up accounts for SpaceTrack (for orbit data) and the EDC API (for laser ranging data).\n",
    "* A SpaceTrack account is required, it can be created for free at: https://www.space-track.org/auth/createAccount\n",
    "* An EDC account is required, it can be created for free at: https://edc.dgfi.tum.de/en/register/"
   ]
  },
  {
   "cell_type": "code",
   "execution_count": null,
   "metadata": {},
   "outputs": [],
   "source": [
    "# Space-Track\n",
    "identity_st = input('Enter SpaceTrack username')\n",
    "import getpass\n",
    "password_st = getpass.getpass(prompt='Enter SpaceTrack password for account {}'.format(identity_st))\n",
    "import spacetrack.operators as op\n",
    "from spacetrack import SpaceTrackClient\n",
    "st = SpaceTrackClient(identity=identity_st, password=password_st)"
   ]
  },
  {
   "cell_type": "code",
   "execution_count": null,
   "metadata": {},
   "outputs": [],
   "source": [
    "# EDC API\n",
    "username_edc = input('Enter EDC API username')\n",
    "password_edc = getpass.getpass(prompt='Enter EDC API password for account {}'.format(username_edc)) # You will get prompted for your password\n",
    "url = 'https://edc.dgfi.tum.de/api/v1/'"
   ]
  },
  {
   "cell_type": "markdown",
   "metadata": {},
   "source": [
    "## Setting up models\n",
    "Initializing Orekit and JVM"
   ]
  },
  {
   "cell_type": "code",
   "execution_count": 5,
   "metadata": {},
   "outputs": [],
   "source": [
    "import orekit\n",
    "orekit.initVM()\n",
    "\n",
    "# Modified from https://gitlab.orekit.org/orekit-labs/python-wrapper/blob/master/python_files/pyhelpers.py\n",
    "from java.io import File\n",
    "from org.orekit.data import DataProvidersManager, DirectoryCrawler\n",
    "from orekit import JArray\n",
    "\n",
    "orekit_filename = 'orekit-data'\n",
    "DM = DataProvidersManager.getInstance()\n",
    "datafile = File(orekit_filename)\n",
    "if not datafile.exists():\n",
    "    print('Directory :', datafile.absolutePath, ' not found')\n",
    "\n",
    "crawler = DirectoryCrawler(datafile)\n",
    "DM.clearProviders()\n",
    "DM.addProvider(crawler)"
   ]
  },
  {
   "cell_type": "markdown",
   "metadata": {},
   "source": [
    "Import station data from file"
   ]
  },
  {
   "cell_type": "code",
   "execution_count": 6,
   "metadata": {},
   "outputs": [
    {
     "name": "stderr",
     "output_type": "stream",
     "text": [
      "/home/yzokras/miniconda3/envs/laserod/lib/python3.8/site-packages/pandas/core/indexing.py:1761: PerformanceWarning: indexing past lexsort depth may impact performance.\n",
      "  return self._getitem_tuple(key)\n"
     ]
    }
   ],
   "source": [
    "stationFile = 'SLRF2014_POS+VEL_2030.0_180504.snx'\n",
    "stationEccFile = 'ecc_xyz.snx'\n",
    "import slrDataUtils\n",
    "stationData = slrDataUtils.parseStationData(stationFile, stationEccFile, startCollectionDate)"
   ]
  },
  {
   "cell_type": "markdown",
   "metadata": {},
   "source": [
    "The orbit determination needs a first guess. For this, we use Two-Line Elements. Retrieving the latest TLE prior to the beginning of the orbit determination. It is important to have a \"fresh\" TLE, because the newer the TLE, the better the orbit estimation."
   ]
  },
  {
   "cell_type": "code",
   "execution_count": 7,
   "metadata": {},
   "outputs": [
    {
     "name": "stdout",
     "output_type": "stream",
     "text": [
      "1 42829U 17042E   20042.65175483  .00000094  00000-0  14859-4 0  9990\n",
      "2 42829  97.5382 290.2442 0014032 353.8494   6.2550 14.91054974140399\n"
     ]
    }
   ],
   "source": [
    "rawTle = st.tle(norad_cat_id=sat_list[sc_name]['norad_id'], epoch='<{}'.format(odDate), orderby='epoch desc', limit=1, format='tle')\n",
    "tleLine1 = rawTle.split('\\n')[0]\n",
    "tleLine2 = rawTle.split('\\n')[1]\n",
    "print(tleLine1)\n",
    "print(tleLine2)"
   ]
  },
  {
   "cell_type": "markdown",
   "metadata": {},
   "source": [
    "Setting up Orekit frames and models"
   ]
  },
  {
   "cell_type": "code",
   "execution_count": 8,
   "metadata": {},
   "outputs": [],
   "source": [
    "from org.orekit.utils import Constants as orekit_constants\n",
    "\n",
    "from org.orekit.frames import FramesFactory, ITRFVersion\n",
    "from org.orekit.utils import IERSConventions\n",
    "tod = FramesFactory.getTOD(IERSConventions.IERS_2010, False) # Taking tidal effects into account when interpolating EOP parameters\n",
    "gcrf = FramesFactory.getGCRF()\n",
    "itrf = FramesFactory.getITRF(IERSConventions.IERS_2010, False)\n",
    "#itrf = FramesFactory.getITRF(ITRFVersion.ITRF_2014, IERSConventions.IERS_2010, False)\n",
    "# Selecting frames to use for OD\n",
    "eci = gcrf\n",
    "ecef = itrf\n",
    "\n",
    "from org.orekit.models.earth import ReferenceEllipsoid\n",
    "wgs84Ellipsoid = ReferenceEllipsoid.getWgs84(ecef)\n",
    "from org.orekit.bodies import CelestialBodyFactory\n",
    "moon = CelestialBodyFactory.getMoon()\n",
    "sun = CelestialBodyFactory.getSun()\n",
    "\n",
    "from org.orekit.time import AbsoluteDate, TimeScalesFactory\n",
    "utc = TimeScalesFactory.getUTC()\n",
    "mjd_utc_epoch = AbsoluteDate(1858, 11, 17, 0, 0, 0.0, utc)"
   ]
  },
  {
   "cell_type": "markdown",
   "metadata": {},
   "source": [
    "Setting up the propagator from the initial TLEs"
   ]
  },
  {
   "cell_type": "code",
   "execution_count": 9,
   "metadata": {},
   "outputs": [],
   "source": [
    "from org.orekit.propagation.analytical.tle import TLE\n",
    "orekitTle = TLE(tleLine1, tleLine2)\n",
    "\n",
    "from org.orekit.attitudes import NadirPointing\n",
    "nadirPointing = NadirPointing(eci, wgs84Ellipsoid)\n",
    "\n",
    "from org.orekit.propagation.analytical.tle import SGP4\n",
    "sgp4Propagator = SGP4(orekitTle, nadirPointing, sat_list[sc_name]['mass'])\n",
    "\n",
    "tleInitialState = sgp4Propagator.getInitialState()\n",
    "tleEpoch = tleInitialState.getDate()\n",
    "tleOrbit_TEME = tleInitialState.getOrbit()\n",
    "tlePV_ECI = tleOrbit_TEME.getPVCoordinates(eci)\n",
    "\n",
    "from org.orekit.orbits import CartesianOrbit\n",
    "tleOrbit_ECI = CartesianOrbit(tlePV_ECI, eci, wgs84Ellipsoid.getGM())\n",
    "\n",
    "from org.orekit.propagation.conversion import DormandPrince853IntegratorBuilder\n",
    "integratorBuilder = DormandPrince853IntegratorBuilder(prop_min_step, prop_max_step, prop_position_error)\n",
    "\n",
    "from org.orekit.propagation.conversion import NumericalPropagatorBuilder\n",
    "from org.orekit.orbits import PositionAngle\n",
    "propagatorBuilder = NumericalPropagatorBuilder(tleOrbit_ECI,\n",
    "                                               integratorBuilder, PositionAngle.MEAN, estimator_position_scale)\n",
    "propagatorBuilder.setMass(sat_list[sc_name]['mass'])\n",
    "propagatorBuilder.setAttitudeProvider(nadirPointing)"
   ]
  },
  {
   "cell_type": "markdown",
   "metadata": {},
   "source": [
    "Adding perturbation forces to the propagator"
   ]
  },
  {
   "cell_type": "code",
   "execution_count": 10,
   "metadata": {},
   "outputs": [],
   "source": [
    "# Earth gravity field with degree 64 and order 64\n",
    "from org.orekit.forces.gravity.potential import GravityFieldFactory\n",
    "gravityProvider = GravityFieldFactory.getConstantNormalizedProvider(64, 64)\n",
    "from org.orekit.forces.gravity import HolmesFeatherstoneAttractionModel\n",
    "gravityAttractionModel = HolmesFeatherstoneAttractionModel(ecef, gravityProvider)\n",
    "propagatorBuilder.addForceModel(gravityAttractionModel)\n",
    "\n",
    "# Moon and Sun perturbations\n",
    "from org.orekit.forces.gravity import ThirdBodyAttraction\n",
    "moon_3dbodyattraction = ThirdBodyAttraction(moon)\n",
    "propagatorBuilder.addForceModel(moon_3dbodyattraction)\n",
    "sun_3dbodyattraction = ThirdBodyAttraction(sun)\n",
    "propagatorBuilder.addForceModel(sun_3dbodyattraction)\n",
    "\n",
    "# Solar radiation pressure\n",
    "from org.orekit.forces.radiation import IsotropicRadiationSingleCoefficient\n",
    "isotropicRadiationSingleCoeff = IsotropicRadiationSingleCoefficient(sat_list[sc_name]['cross_section'], sat_list[sc_name]['cr']);\n",
    "from org.orekit.forces.radiation import SolarRadiationPressure\n",
    "solarRadiationPressure = SolarRadiationPressure(sun, wgs84Ellipsoid.getEquatorialRadius(),\n",
    "                                                isotropicRadiationSingleCoeff)\n",
    "propagatorBuilder.addForceModel(solarRadiationPressure)\n",
    "\n",
    "# Atmospheric drag\n",
    "from org.orekit.models.earth.atmosphere.data import MarshallSolarActivityFutureEstimation\n",
    "msafe = MarshallSolarActivityFutureEstimation(\n",
    "    MarshallSolarActivityFutureEstimation.DEFAULT_SUPPORTED_NAMES,\n",
    "    MarshallSolarActivityFutureEstimation.StrengthLevel.AVERAGE)\n",
    "#DM.feed( MarshallSolarActivityFutureEstimation.DEFAULT_SUPPORTED_NAMES, msafe) # Feeding the F10.7 bulletins to Orekit's data manager\n",
    "\n",
    "from org.orekit.models.earth.atmosphere import NRLMSISE00\n",
    "atmosphere = NRLMSISE00(msafe, sun, wgs84Ellipsoid)\n",
    "#from org.orekit.forces.drag.atmosphere import DTM2000\n",
    "#atmosphere = DTM2000(msafe, sun, wgs84Ellipsoid)\n",
    "from org.orekit.forces.drag import IsotropicDrag\n",
    "isotropicDrag = IsotropicDrag(sat_list[sc_name]['cross_section'], sat_list[sc_name]['cd'])\n",
    "from org.orekit.forces.drag import DragForce\n",
    "dragForce = DragForce(atmosphere, isotropicDrag)\n",
    "propagatorBuilder.addForceModel(dragForce)\n",
    "\n",
    "# Relativity\n",
    "from org.orekit.forces.gravity import Relativity\n",
    "relativity = Relativity(orekit_constants.EIGEN5C_EARTH_MU)\n",
    "propagatorBuilder.addForceModel(relativity)"
   ]
  },
  {
   "cell_type": "markdown",
   "metadata": {},
   "source": [
    "Setting up the estimator"
   ]
  },
  {
   "cell_type": "code",
   "execution_count": 11,
   "metadata": {},
   "outputs": [],
   "source": [
    "from org.hipparchus.linear import QRDecomposer\n",
    "matrixDecomposer = QRDecomposer(1e-11)\n",
    "from org.hipparchus.optim.nonlinear.vector.leastsquares import GaussNewtonOptimizer\n",
    "optimizer = GaussNewtonOptimizer(matrixDecomposer, False)\n",
    "\n",
    "from org.orekit.estimation.leastsquares import BatchLSEstimator\n",
    "estimator = BatchLSEstimator(optimizer, propagatorBuilder)\n",
    "estimator.setParametersConvergenceThreshold(estimator_convergence_thres)\n",
    "estimator.setMaxIterations(estimator_max_iterations)\n",
    "estimator.setMaxEvaluations(estimator_max_evaluations)"
   ]
  },
  {
   "cell_type": "markdown",
   "metadata": {},
   "source": [
    "## Fetching range data\n",
    "Looking for laser ranging data prior to the OD date.\n",
    "\n",
    "The API only allows to look for data using the date formats 2018-07-1%, 2018-07-14% or 2018-07-14 0% for example. As a consequence, the search must be split into several days. The results are then sorted, and the observations which are outside of the date range are deleted."
   ]
  },
  {
   "cell_type": "code",
   "execution_count": 12,
   "metadata": {},
   "outputs": [
    {
     "data": {
      "text/html": [
       "<div>\n",
       "<style scoped>\n",
       "    .dataframe tbody tr th:only-of-type {\n",
       "        vertical-align: middle;\n",
       "    }\n",
       "\n",
       "    .dataframe tbody tr th {\n",
       "        vertical-align: top;\n",
       "    }\n",
       "\n",
       "    .dataframe thead th {\n",
       "        text-align: right;\n",
       "    }\n",
       "</style>\n",
       "<table border=\"1\" class=\"dataframe\">\n",
       "  <thead>\n",
       "    <tr style=\"text-align: right;\">\n",
       "      <th></th>\n",
       "      <th>end_data_date</th>\n",
       "      <th>errors</th>\n",
       "      <th>incoming_date</th>\n",
       "      <th>incoming_filename</th>\n",
       "      <th>observations</th>\n",
       "      <th>satellite</th>\n",
       "      <th>start_data_date</th>\n",
       "      <th>station</th>\n",
       "      <th>status</th>\n",
       "      <th>version</th>\n",
       "      <th>wavelength</th>\n",
       "    </tr>\n",
       "  </thead>\n",
       "  <tbody>\n",
       "    <tr>\n",
       "      <th>2131135</th>\n",
       "      <td>2020-02-10 02:30:18</td>\n",
       "      <td></td>\n",
       "      <td>2020-02-10 06:27:11</td>\n",
       "      <td>nasa_202002100600.npt</td>\n",
       "      <td>13</td>\n",
       "      <td>1704205</td>\n",
       "      <td>2020-02-10 02:25:17</td>\n",
       "      <td>70900513</td>\n",
       "      <td>valid</td>\n",
       "      <td>00</td>\n",
       "      <td>532.000</td>\n",
       "    </tr>\n",
       "    <tr>\n",
       "      <th>2131289</th>\n",
       "      <td>2020-02-10 09:18:18</td>\n",
       "      <td></td>\n",
       "      <td>2020-02-10 09:56:55</td>\n",
       "      <td>7840_technosat_crd_20200210_09_00.npt</td>\n",
       "      <td>6</td>\n",
       "      <td>1704205</td>\n",
       "      <td>2020-02-10 09:16:50</td>\n",
       "      <td>78403501</td>\n",
       "      <td>valid</td>\n",
       "      <td>00</td>\n",
       "      <td>532.080</td>\n",
       "    </tr>\n",
       "    <tr>\n",
       "      <th>2131463</th>\n",
       "      <td>2020-02-10 14:29:59</td>\n",
       "      <td></td>\n",
       "      <td>2020-02-10 14:58:36</td>\n",
       "      <td>7237_technosat_crd_20200210_14_00.npt</td>\n",
       "      <td>3</td>\n",
       "      <td>1704205</td>\n",
       "      <td>2020-02-10 14:29:18</td>\n",
       "      <td>72371901</td>\n",
       "      <td>valid</td>\n",
       "      <td>00</td>\n",
       "      <td>532.000</td>\n",
       "    </tr>\n",
       "    <tr>\n",
       "      <th>2131501</th>\n",
       "      <td>2020-02-10 14:49:37</td>\n",
       "      <td></td>\n",
       "      <td>2020-02-10 17:27:09</td>\n",
       "      <td>nasa_202002101700.npt</td>\n",
       "      <td>5</td>\n",
       "      <td>1704205</td>\n",
       "      <td>2020-02-10 14:46:11</td>\n",
       "      <td>70900513</td>\n",
       "      <td>valid</td>\n",
       "      <td>00</td>\n",
       "      <td>532.000</td>\n",
       "    </tr>\n",
       "    <tr>\n",
       "      <th>2131557</th>\n",
       "      <td>2020-02-10 20:55:37</td>\n",
       "      <td></td>\n",
       "      <td>2020-02-10 21:00:58</td>\n",
       "      <td>7811_technosat_crd_20200210_20_00.npt</td>\n",
       "      <td>14</td>\n",
       "      <td>1704205</td>\n",
       "      <td>2020-02-10 20:51:09</td>\n",
       "      <td>78113802</td>\n",
       "      <td>valid</td>\n",
       "      <td>00</td>\n",
       "      <td>532.000</td>\n",
       "    </tr>\n",
       "    <tr>\n",
       "      <th>2131568</th>\n",
       "      <td>2020-02-10 20:58:42</td>\n",
       "      <td></td>\n",
       "      <td>2020-02-10 22:16:30</td>\n",
       "      <td>7941_technosat_crd_20200210_2057_00.npt</td>\n",
       "      <td>3</td>\n",
       "      <td>1704205</td>\n",
       "      <td>2020-02-10 20:57:46</td>\n",
       "      <td>79417701</td>\n",
       "      <td>valid</td>\n",
       "      <td>00</td>\n",
       "      <td>532.000</td>\n",
       "    </tr>\n",
       "    <tr>\n",
       "      <th>2131728</th>\n",
       "      <td>2020-02-11 02:38:24</td>\n",
       "      <td></td>\n",
       "      <td>2020-02-11 06:27:11</td>\n",
       "      <td>nasa_202002110600.npt</td>\n",
       "      <td>9</td>\n",
       "      <td>1704205</td>\n",
       "      <td>2020-02-11 02:36:01</td>\n",
       "      <td>70900513</td>\n",
       "      <td>valid</td>\n",
       "      <td>00</td>\n",
       "      <td>532.000</td>\n",
       "    </tr>\n",
       "    <tr>\n",
       "      <th>2131926</th>\n",
       "      <td>2020-02-11 13:21:59</td>\n",
       "      <td></td>\n",
       "      <td>2020-02-11 17:27:09</td>\n",
       "      <td>nasa_202002111700.npt</td>\n",
       "      <td>5</td>\n",
       "      <td>1704205</td>\n",
       "      <td>2020-02-11 13:20:09</td>\n",
       "      <td>70900513</td>\n",
       "      <td>valid</td>\n",
       "      <td>00</td>\n",
       "      <td>532.000</td>\n",
       "    </tr>\n",
       "    <tr>\n",
       "      <th>2131900</th>\n",
       "      <td>2020-02-11 14:39:11</td>\n",
       "      <td></td>\n",
       "      <td>2020-02-11 14:46:26</td>\n",
       "      <td>7237_technosat_crd_20200211_14_00.npt</td>\n",
       "      <td>9</td>\n",
       "      <td>1704205</td>\n",
       "      <td>2020-02-11 14:36:46</td>\n",
       "      <td>72371901</td>\n",
       "      <td>valid</td>\n",
       "      <td>00</td>\n",
       "      <td>532.000</td>\n",
       "    </tr>\n",
       "    <tr>\n",
       "      <th>2132259</th>\n",
       "      <td>2020-02-11 14:47:00</td>\n",
       "      <td></td>\n",
       "      <td>2020-02-12 09:02:38</td>\n",
       "      <td>7819_technosat_crd_20200211_14_00.npt</td>\n",
       "      <td>3</td>\n",
       "      <td>1704205</td>\n",
       "      <td>2020-02-11 14:39:59</td>\n",
       "      <td>78198201</td>\n",
       "      <td>valid</td>\n",
       "      <td>00</td>\n",
       "      <td>532.000</td>\n",
       "    </tr>\n",
       "  </tbody>\n",
       "</table>\n",
       "</div>"
      ],
      "text/plain": [
       "               end_data_date errors        incoming_date  \\\n",
       "2131135  2020-02-10 02:30:18         2020-02-10 06:27:11   \n",
       "2131289  2020-02-10 09:18:18         2020-02-10 09:56:55   \n",
       "2131463  2020-02-10 14:29:59         2020-02-10 14:58:36   \n",
       "2131501  2020-02-10 14:49:37         2020-02-10 17:27:09   \n",
       "2131557  2020-02-10 20:55:37         2020-02-10 21:00:58   \n",
       "2131568  2020-02-10 20:58:42         2020-02-10 22:16:30   \n",
       "2131728  2020-02-11 02:38:24         2020-02-11 06:27:11   \n",
       "2131926  2020-02-11 13:21:59         2020-02-11 17:27:09   \n",
       "2131900  2020-02-11 14:39:11         2020-02-11 14:46:26   \n",
       "2132259  2020-02-11 14:47:00         2020-02-12 09:02:38   \n",
       "\n",
       "                               incoming_filename observations satellite  \\\n",
       "2131135                    nasa_202002100600.npt           13   1704205   \n",
       "2131289    7840_technosat_crd_20200210_09_00.npt            6   1704205   \n",
       "2131463    7237_technosat_crd_20200210_14_00.npt            3   1704205   \n",
       "2131501                    nasa_202002101700.npt            5   1704205   \n",
       "2131557    7811_technosat_crd_20200210_20_00.npt           14   1704205   \n",
       "2131568  7941_technosat_crd_20200210_2057_00.npt            3   1704205   \n",
       "2131728                    nasa_202002110600.npt            9   1704205   \n",
       "2131926                    nasa_202002111700.npt            5   1704205   \n",
       "2131900    7237_technosat_crd_20200211_14_00.npt            9   1704205   \n",
       "2132259    7819_technosat_crd_20200211_14_00.npt            3   1704205   \n",
       "\n",
       "             start_data_date   station status version wavelength  \n",
       "2131135  2020-02-10 02:25:17  70900513  valid      00    532.000  \n",
       "2131289  2020-02-10 09:16:50  78403501  valid      00    532.080  \n",
       "2131463  2020-02-10 14:29:18  72371901  valid      00    532.000  \n",
       "2131501  2020-02-10 14:46:11  70900513  valid      00    532.000  \n",
       "2131557  2020-02-10 20:51:09  78113802  valid      00    532.000  \n",
       "2131568  2020-02-10 20:57:46  79417701  valid      00    532.000  \n",
       "2131728  2020-02-11 02:36:01  70900513  valid      00    532.000  \n",
       "2131926  2020-02-11 13:20:09  70900513  valid      00    532.000  \n",
       "2131900  2020-02-11 14:36:46  72371901  valid      00    532.000  \n",
       "2132259  2020-02-11 14:39:59  78198201  valid      00    532.000  "
      ]
     },
     "metadata": {},
     "output_type": "display_data"
    }
   ],
   "source": [
    "import slrDataUtils\n",
    "nptDatasetList = slrDataUtils.querySlrData(username_edc, password_edc, url, 'NPT',\n",
    "                                         sat_list[sc_name]['cospar_id'], startCollectionDate, odDate)\n",
    "frdDatasetList = slrDataUtils.querySlrData(username_edc, password_edc, url, 'FRD',\n",
    "                                         sat_list[sc_name]['cospar_id'], startCollectionDate, odDate)\n",
    "display(nptDatasetList)"
   ]
  },
  {
   "cell_type": "markdown",
   "metadata": {},
   "source": [
    "Downloading the list of observations."
   ]
  },
  {
   "cell_type": "code",
   "execution_count": 13,
   "metadata": {},
   "outputs": [
    {
     "data": {
      "text/html": [
       "<div>\n",
       "<style scoped>\n",
       "    .dataframe tbody tr th:only-of-type {\n",
       "        vertical-align: middle;\n",
       "    }\n",
       "\n",
       "    .dataframe tbody tr th {\n",
       "        vertical-align: top;\n",
       "    }\n",
       "\n",
       "    .dataframe thead th {\n",
       "        text-align: right;\n",
       "    }\n",
       "</style>\n",
       "<table border=\"1\" class=\"dataframe\">\n",
       "  <thead>\n",
       "    <tr style=\"text-align: right;\">\n",
       "      <th></th>\n",
       "      <th>station-id</th>\n",
       "      <th>range</th>\n",
       "    </tr>\n",
       "  </thead>\n",
       "  <tbody>\n",
       "    <tr>\n",
       "      <th>2020-02-10 02:25:25.509469</th>\n",
       "      <td>70900513</td>\n",
       "      <td>1.333754e+06</td>\n",
       "    </tr>\n",
       "    <tr>\n",
       "      <th>2020-02-10 02:25:41.708771</th>\n",
       "      <td>70900513</td>\n",
       "      <td>1.229854e+06</td>\n",
       "    </tr>\n",
       "    <tr>\n",
       "      <th>2020-02-10 02:25:53.308286</th>\n",
       "      <td>70900513</td>\n",
       "      <td>1.157047e+06</td>\n",
       "    </tr>\n",
       "    <tr>\n",
       "      <th>2020-02-10 02:26:08.107685</th>\n",
       "      <td>70900513</td>\n",
       "      <td>1.066592e+06</td>\n",
       "    </tr>\n",
       "    <tr>\n",
       "      <th>2020-02-10 02:26:17.407314</th>\n",
       "      <td>70900513</td>\n",
       "      <td>1.011464e+06</td>\n",
       "    </tr>\n",
       "    <tr>\n",
       "      <th>...</th>\n",
       "      <td>...</td>\n",
       "      <td>...</td>\n",
       "    </tr>\n",
       "    <tr>\n",
       "      <th>2020-02-11 14:38:36.777613</th>\n",
       "      <td>72371901</td>\n",
       "      <td>9.911642e+05</td>\n",
       "    </tr>\n",
       "    <tr>\n",
       "      <th>2020-02-11 14:38:51.264889</th>\n",
       "      <td>72371901</td>\n",
       "      <td>1.032485e+06</td>\n",
       "    </tr>\n",
       "    <tr>\n",
       "      <th>2020-02-11 14:45:08.573249</th>\n",
       "      <td>78198201</td>\n",
       "      <td>1.260055e+06</td>\n",
       "    </tr>\n",
       "    <tr>\n",
       "      <th>2020-02-11 14:45:21.269703</th>\n",
       "      <td>78198201</td>\n",
       "      <td>1.306059e+06</td>\n",
       "    </tr>\n",
       "    <tr>\n",
       "      <th>2020-02-11 14:45:36.866300</th>\n",
       "      <td>78198201</td>\n",
       "      <td>1.368869e+06</td>\n",
       "    </tr>\n",
       "  </tbody>\n",
       "</table>\n",
       "<p>70 rows × 2 columns</p>\n",
       "</div>"
      ],
      "text/plain": [
       "                           station-id         range\n",
       "2020-02-10 02:25:25.509469   70900513  1.333754e+06\n",
       "2020-02-10 02:25:41.708771   70900513  1.229854e+06\n",
       "2020-02-10 02:25:53.308286   70900513  1.157047e+06\n",
       "2020-02-10 02:26:08.107685   70900513  1.066592e+06\n",
       "2020-02-10 02:26:17.407314   70900513  1.011464e+06\n",
       "...                               ...           ...\n",
       "2020-02-11 14:38:36.777613   72371901  9.911642e+05\n",
       "2020-02-11 14:38:51.264889   72371901  1.032485e+06\n",
       "2020-02-11 14:45:08.573249   78198201  1.260055e+06\n",
       "2020-02-11 14:45:21.269703   78198201  1.306059e+06\n",
       "2020-02-11 14:45:36.866300   78198201  1.368869e+06\n",
       "\n",
       "[70 rows x 2 columns]"
      ]
     },
     "metadata": {},
     "output_type": "display_data"
    }
   ],
   "source": [
    "from orekit.pyhelpers import *\n",
    "from org.orekit.estimation.measurements import Range\n",
    "import slrDataUtils\n",
    "nptDataFrame = slrDataUtils.dlAndParseSlrData(username_edc, password_edc, url, 'NPT', nptDatasetList)\n",
    "# Comment out to download Full-Rate data\n",
    "# frdDataFrame = slrDataUtils.dlAndParseSlrData(username_edc, password_edc, url, 'FRD', frdDatasetList)\n",
    "display(nptDataFrame)"
   ]
  },
  {
   "cell_type": "markdown",
   "metadata": {},
   "source": [
    "Adding the measurements to the estimator"
   ]
  },
  {
   "cell_type": "code",
   "execution_count": 14,
   "metadata": {},
   "outputs": [],
   "source": [
    "slrDataFrame = nptDataFrame\n",
    "# Comment out to use Full-Rate data\n",
    "# slrDataFrame = frdDataFrame\n",
    "\n",
    "\n",
    "from org.orekit.estimation.measurements import ObservableSatellite \n",
    "observableSatellite = ObservableSatellite(0) # Propagator index = 0\n",
    "\n",
    "for receiveTime, slrData in slrDataFrame.iterrows():\n",
    "    if slrData['station-id'] in stationData.index: # Checking if station exists in the SLRF2014_POS+VEL, because it might not be up-to-date\n",
    "        orekitRange = Range(stationData.loc[slrData['station-id'], 'OrekitGroundStation'], \n",
    "                            True, # Two-way measurement\n",
    "                            datetime_to_absolutedate(receiveTime),\n",
    "                            slrData['range'],\n",
    "                            range_sigma,\n",
    "                            range_weight,\n",
    "                            observableSatellite\n",
    "                           ) # Uses date of signal reception; https://www.orekit.org/static/apidocs/org/orekit/estimation/measurements/Range.html\n",
    "        estimator.addMeasurement(orekitRange)"
   ]
  },
  {
   "cell_type": "markdown",
   "metadata": {},
   "source": [
    "## Performing the OD\n",
    "Estimate the orbit. This step can take a long time."
   ]
  },
  {
   "cell_type": "code",
   "execution_count": 15,
   "metadata": {},
   "outputs": [],
   "source": [
    "estimatedPropagatorArray = estimator.estimate()"
   ]
  },
  {
   "cell_type": "markdown",
   "metadata": {},
   "source": [
    "## Propagating the estimated orbit"
   ]
  },
  {
   "cell_type": "code",
   "execution_count": 16,
   "metadata": {},
   "outputs": [],
   "source": [
    "dt = 300.0\n",
    "date_start = datetime_to_absolutedate(startCollectionDate)\n",
    "date_start = date_start.shiftedBy(-86400.0)\n",
    "date_end = datetime_to_absolutedate(odDate)\n",
    "date_end = date_end.shiftedBy(86400.0) # Stopping 1 day after OD date\n",
    "\n",
    "# First propagating in ephemeris mode\n",
    "estimatedPropagator = estimatedPropagatorArray[0]\n",
    "estimatedInitialState = estimatedPropagator.getInitialState()\n",
    "actualOdDate = estimatedInitialState.getDate()\n",
    "estimatedPropagator.resetInitialState(estimatedInitialState)\n",
    "estimatedPropagator.setEphemerisMode()\n",
    "\n",
    "# Propagating from 1 day before data collection\n",
    "# To 1 week after orbit determination (for CPF generation)\n",
    "estimatedPropagator.propagate(date_start, datetime_to_absolutedate(odDate).shiftedBy(7 * 86400.0))\n",
    "bounded_propagator = estimatedPropagator.getGeneratedEphemeris()"
   ]
  },
  {
   "cell_type": "markdown",
   "metadata": {},
   "source": [
    "## Covariance analysis\n",
    "Creating the LVLH frame, computing the covariance matrix in both TOD and LVLH frames"
   ]
  },
  {
   "cell_type": "code",
   "execution_count": 17,
   "metadata": {},
   "outputs": [],
   "source": [
    "# Creating the LVLH frame \n",
    "# It must be associated to the bounded propagator, not the original numerical propagator\n",
    "from org.orekit.frames import LocalOrbitalFrame\n",
    "from org.orekit.frames import LOFType\n",
    "lvlh = LocalOrbitalFrame(eci, LOFType.LVLH, bounded_propagator, 'LVLH')\n",
    "\n",
    "# Getting covariance matrix in ECI frame\n",
    "covMat_eci_java = estimator.getPhysicalCovariances(1.0e-10)\n",
    "\n",
    "# Converting matrix to LVLH frame\n",
    "# Getting an inertial frame aligned with the LVLH frame at this instant\n",
    "# The LVLH is normally not inertial, but this should not affect results too much\n",
    "# Reference: David Vallado, Covariance Transformations for Satellite Flight Dynamics Operations, 2003\n",
    "eci2lvlh_frozen = eci.getTransformTo(lvlh, actualOdDate).freeze() \n",
    "\n",
    "# Computing Jacobian\n",
    "from org.orekit.utils import CartesianDerivativesFilter\n",
    "from orekit.pyhelpers import JArray_double2D\n",
    "jacobianDoubleArray = JArray_double2D(6, 6)\n",
    "eci2lvlh_frozen.getJacobian(CartesianDerivativesFilter.USE_PV, jacobianDoubleArray)\n",
    "from org.hipparchus.linear import Array2DRowRealMatrix\n",
    "jacobian = Array2DRowRealMatrix(jacobianDoubleArray)\n",
    "# Applying Jacobian to convert matrix to lvlh\n",
    "covMat_lvlh_java = jacobian.multiply(\n",
    "    covMat_eci_java.multiply(jacobian.transpose()))\n",
    "\n",
    "# Converting the Java matrices to numpy\n",
    "import numpy as np\n",
    "covarianceMat_eci = np.matrix([covMat_eci_java.getRow(iRow) \n",
    "                              for iRow in range(0, covMat_eci_java.getRowDimension())])\n",
    "covarianceMat_lvlh = np.matrix([covMat_lvlh_java.getRow(iRow) \n",
    "                              for iRow in range(0, covMat_lvlh_java.getRowDimension())])"
   ]
  },
  {
   "cell_type": "markdown",
   "metadata": {},
   "source": [
    "Computing the position and velocity standard deviation "
   ]
  },
  {
   "cell_type": "code",
   "execution_count": 18,
   "metadata": {},
   "outputs": [
    {
     "name": "stdout",
     "output_type": "stream",
     "text": [
      "Position std: cross-track 1.577e-01 m, along-track 8.466e-01 m, out-of-plane 3.273e-01 m\n",
      "Velocity std: cross-track 8.043e-04 m/s, along-track 1.724e-04 m/s, out-of-plane 4.568e-04 m/s\n"
     ]
    }
   ],
   "source": [
    "pos_std_crossTrack = np.sqrt(covarianceMat_lvlh[0,0])\n",
    "pos_std_alongTrack = np.sqrt(covarianceMat_lvlh[1,1])\n",
    "pos_std_outOfPlane = np.sqrt(covarianceMat_lvlh[2,2])\n",
    "print(f'Position std: cross-track {pos_std_crossTrack:.3e} m, along-track {pos_std_alongTrack:.3e} m, out-of-plane {pos_std_outOfPlane:.3e} m')\n",
    "\n",
    "vel_std_crossTrack = np.sqrt(covarianceMat_lvlh[3,3])\n",
    "vel_std_alongTrack = np.sqrt(covarianceMat_lvlh[4,4])\n",
    "vel_std_outOfPlane = np.sqrt(covarianceMat_lvlh[5,5])\n",
    "print(f'Velocity std: cross-track {vel_std_crossTrack:.3e} m/s, along-track {vel_std_alongTrack:.3e} m/s, out-of-plane {vel_std_outOfPlane:.3e} m/s')"
   ]
  },
  {
   "cell_type": "markdown",
   "metadata": {},
   "source": [
    "## CCSDS OPM\n",
    "Writing a CCSDS OPM message"
   ]
  },
  {
   "cell_type": "code",
   "execution_count": 19,
   "metadata": {},
   "outputs": [],
   "source": [
    "sat_properties = {\n",
    "     'mass': sat_list[sc_name]['mass'],\n",
    "     'solar_rad_area': sat_list[sc_name]['cross_section'],\n",
    "     'solar_rad_coeff': sat_list[sc_name]['cd'],\n",
    "     'drag_area': sat_list[sc_name]['cross_section'],\n",
    "     'drag_coeff': sat_list[sc_name]['cr']\n",
    "}\n",
    "\n",
    "from ccsdsUtils import Ccsds\n",
    "ccsds_writer = Ccsds(originator='GOR', object_name=sc_name, object_id=sat_list[sc_name]['norad_id'], sat_properties=sat_properties)\n",
    "\n",
    "pv_eci_init = estimatedInitialState.getPVCoordinates()\n",
    "pos_eci_init = np.array(pv_eci_init.getPosition().toArray())\n",
    "vel_eci_init = np.array(pv_eci_init.getVelocity().toArray())\n",
    "\n",
    "ccsds_writer.write_opm('OPM.txt', absolutedate_to_datetime(actualOdDate), pos_eci_init, vel_eci_init, covarianceMat_eci, 'EARTH', 'GCRF')"
   ]
  },
  {
   "cell_type": "markdown",
   "metadata": {},
   "source": [
    "## Analyzing residuals\n",
    "Getting the estimated and measured ranges."
   ]
  },
  {
   "cell_type": "code",
   "execution_count": 20,
   "metadata": {},
   "outputs": [],
   "source": [
    "propagatorParameters   = estimator.getPropagatorParametersDrivers(True)\n",
    "measurementsParameters = estimator.getMeasurementsParametersDrivers(True)\n",
    "\n",
    "lastEstimations = estimator.getLastEstimations()\n",
    "valueSet = lastEstimations.values()\n",
    "estimatedMeasurements = valueSet.toArray()\n",
    "keySet = lastEstimations.keySet()\n",
    "realMeasurements = keySet.toArray()\n",
    "\n",
    "from org.orekit.estimation.measurements import EstimatedMeasurement\n",
    "from org.orekit.estimation.measurements import Range\n",
    "\n",
    "import pandas as pd\n",
    "observedRangeSeries = pd.Series(dtype='float64')\n",
    "estimatedRangeSeries = pd.Series(dtype='float64')\n",
    "\n",
    "for estMeas in estimatedMeasurements:\n",
    "    estMeas = EstimatedMeasurement.cast_(estMeas)\n",
    "    observedValue = estMeas.getObservedValue()\n",
    "    estimatedValue = estMeas.getEstimatedValue()\n",
    "    pyDateTime = absolutedate_to_datetime(estMeas.date)\n",
    "    observedRangeSeries[pyDateTime] = observedValue[0]\n",
    "    estimatedRangeSeries[pyDateTime] = estimatedValue[0]"
   ]
  },
  {
   "cell_type": "markdown",
   "metadata": {},
   "source": [
    "Setting up Plotly for offline mode"
   ]
  },
  {
   "cell_type": "code",
   "execution_count": 21,
   "metadata": {},
   "outputs": [],
   "source": [
    "import plotly.io as pio\n",
    "#pio.renderers.default = 'jupyterlab+notebook+png'  # Uncomment for interactive plots\n",
    "pio.renderers.default = 'png'"
   ]
  },
  {
   "cell_type": "markdown",
   "metadata": {},
   "source": [
    "Plotting residuals"
   ]
  },
  {
   "cell_type": "code",
   "execution_count": 22,
   "metadata": {},
   "outputs": [
    {
     "data": {
      "image/png": "[encoded data removed]"
     },
     "metadata": {},
     "output_type": "display_data"
    }
   ],
   "source": [
    "import plotly.graph_objs as go\n",
    "\n",
    "trace = go.Scattergl(\n",
    "    x=observedRangeSeries.index, y=observedRangeSeries-estimatedRangeSeries,\n",
    "    mode='markers'\n",
    ")\n",
    "\n",
    "data = [trace]\n",
    "\n",
    "layout = go.Layout(\n",
    "    title = 'Range residuals',\n",
    "    xaxis = dict(\n",
    "        title = 'Datetime UTC'\n",
    "    ),\n",
    "    yaxis = dict(\n",
    "        title = 'Range residual (m)'\n",
    "    )\n",
    ")\n",
    "\n",
    "fig = dict(data=data, layout=layout)\n",
    "\n",
    "pio.show(fig)"
   ]
  },
  {
   "cell_type": "markdown",
   "metadata": {},
   "source": [
    "## Comparison with CPF\n",
    "The EDC API also provides Consolidated Prediction Files, which contain spacecraft position/velocity in ITRF frame as generated by their orbit determination system. We can compare our orbit determination with the one from the latest CPF prior to the first ranging data used in our orbit determination."
   ]
  },
  {
   "cell_type": "markdown",
   "metadata": {},
   "source": [
    "Requesting CPF data"
   ]
  },
  {
   "cell_type": "code",
   "execution_count": 23,
   "metadata": {},
   "outputs": [
    {
     "data": {
      "text/html": [
       "<div>\n",
       "<style scoped>\n",
       "    .dataframe tbody tr th:only-of-type {\n",
       "        vertical-align: middle;\n",
       "    }\n",
       "\n",
       "    .dataframe tbody tr th {\n",
       "        vertical-align: top;\n",
       "    }\n",
       "\n",
       "    .dataframe thead th {\n",
       "        text-align: right;\n",
       "    }\n",
       "</style>\n",
       "<table border=\"1\" class=\"dataframe\">\n",
       "  <thead>\n",
       "    <tr style=\"text-align: right;\">\n",
       "      <th></th>\n",
       "      <th>end_data_date</th>\n",
       "      <th>eph_seq</th>\n",
       "      <th>errors</th>\n",
       "      <th>incoming_date</th>\n",
       "      <th>incoming_filename</th>\n",
       "      <th>provider</th>\n",
       "      <th>satellite</th>\n",
       "      <th>start_data_date</th>\n",
       "      <th>status</th>\n",
       "    </tr>\n",
       "  </thead>\n",
       "  <tbody>\n",
       "    <tr>\n",
       "      <th>682126</th>\n",
       "      <td>2020-02-16 00:00:00</td>\n",
       "      <td>5401</td>\n",
       "      <td></td>\n",
       "      <td>2020-02-09 05:15:00</td>\n",
       "      <td>technosat_cpf_200209_5401.dlr</td>\n",
       "      <td>DLR</td>\n",
       "      <td>1704205</td>\n",
       "      <td>2020-02-09 00:00:00</td>\n",
       "      <td>valid</td>\n",
       "    </tr>\n",
       "  </tbody>\n",
       "</table>\n",
       "</div>"
      ],
      "text/plain": [
       "              end_data_date eph_seq errors        incoming_date  \\\n",
       "682126  2020-02-16 00:00:00    5401         2020-02-09 05:15:00   \n",
       "\n",
       "                    incoming_filename provider satellite      start_data_date  \\\n",
       "682126  technosat_cpf_200209_5401.dlr      DLR   1704205  2020-02-09 00:00:00   \n",
       "\n",
       "       status  \n",
       "682126  valid  "
      ]
     },
     "metadata": {},
     "output_type": "display_data"
    }
   ],
   "source": [
    "from slrDataUtils import queryCpfData, dlAndParseCpfData\n",
    "cpfList = queryCpfData(username_edc, password_edc, url, \n",
    "                       sat_list[sc_name]['cospar_id'], startCollectionDate - timedelta(days=1))\n",
    "display(cpfList)"
   ]
  },
  {
   "cell_type": "markdown",
   "metadata": {},
   "source": [
    "Downloading and parsing CPF data"
   ]
  },
  {
   "cell_type": "code",
   "execution_count": 24,
   "metadata": {},
   "outputs": [],
   "source": [
    "from importlib import reload\n",
    "reload(slrDataUtils)\n",
    "from slrDataUtils import queryCpfData, dlAndParseCpfData"
   ]
  },
  {
   "cell_type": "code",
   "execution_count": 25,
   "metadata": {},
   "outputs": [
    {
     "data": {
      "text/html": [
       "<div>\n",
       "<style scoped>\n",
       "    .dataframe tbody tr th:only-of-type {\n",
       "        vertical-align: middle;\n",
       "    }\n",
       "\n",
       "    .dataframe tbody tr th {\n",
       "        vertical-align: top;\n",
       "    }\n",
       "\n",
       "    .dataframe thead th {\n",
       "        text-align: right;\n",
       "    }\n",
       "</style>\n",
       "<table border=\"1\" class=\"dataframe\">\n",
       "  <thead>\n",
       "    <tr style=\"text-align: right;\">\n",
       "      <th></th>\n",
       "      <th>x</th>\n",
       "      <th>y</th>\n",
       "      <th>z</th>\n",
       "    </tr>\n",
       "  </thead>\n",
       "  <tbody>\n",
       "    <tr>\n",
       "      <th>2020-02-09 00:00:00</th>\n",
       "      <td>6014850.308</td>\n",
       "      <td>-3499568.141</td>\n",
       "      <td>604116.673</td>\n",
       "    </tr>\n",
       "    <tr>\n",
       "      <th>2020-02-09 00:01:00</th>\n",
       "      <td>5990627.571</td>\n",
       "      <td>-3589772.933</td>\n",
       "      <td>155782.425</td>\n",
       "    </tr>\n",
       "    <tr>\n",
       "      <th>2020-02-09 00:02:00</th>\n",
       "      <td>5940554.505</td>\n",
       "      <td>-3664594.643</td>\n",
       "      <td>-293209.976</td>\n",
       "    </tr>\n",
       "    <tr>\n",
       "      <th>2020-02-09 00:03:00</th>\n",
       "      <td>5864983.805</td>\n",
       "      <td>-3723498.345</td>\n",
       "      <td>-740963.758</td>\n",
       "    </tr>\n",
       "    <tr>\n",
       "      <th>2020-02-09 00:04:00</th>\n",
       "      <td>5764379.949</td>\n",
       "      <td>-3766019.979</td>\n",
       "      <td>-1185588.367</td>\n",
       "    </tr>\n",
       "    <tr>\n",
       "      <th>...</th>\n",
       "      <td>...</td>\n",
       "      <td>...</td>\n",
       "      <td>...</td>\n",
       "    </tr>\n",
       "    <tr>\n",
       "      <th>2020-02-12 23:56:00</th>\n",
       "      <td>-5604865.884</td>\n",
       "      <td>3554827.519</td>\n",
       "      <td>2110517.183</td>\n",
       "    </tr>\n",
       "    <tr>\n",
       "      <th>2020-02-12 23:57:00</th>\n",
       "      <td>-5428720.465</td>\n",
       "      <td>3550688.717</td>\n",
       "      <td>2534482.790</td>\n",
       "    </tr>\n",
       "    <tr>\n",
       "      <th>2020-02-12 23:58:00</th>\n",
       "      <td>-5229723.060</td>\n",
       "      <td>3529891.001</td>\n",
       "      <td>2947650.652</td>\n",
       "    </tr>\n",
       "    <tr>\n",
       "      <th>2020-02-12 23:59:00</th>\n",
       "      <td>-5008866.456</td>\n",
       "      <td>3492330.022</td>\n",
       "      <td>3348263.362</td>\n",
       "    </tr>\n",
       "    <tr>\n",
       "      <th>2020-02-13 00:00:00</th>\n",
       "      <td>-4767237.089</td>\n",
       "      <td>3437982.088</td>\n",
       "      <td>3734618.464</td>\n",
       "    </tr>\n",
       "  </tbody>\n",
       "</table>\n",
       "<p>5761 rows × 3 columns</p>\n",
       "</div>"
      ],
      "text/plain": [
       "                               x            y            z\n",
       "2020-02-09 00:00:00  6014850.308 -3499568.141   604116.673\n",
       "2020-02-09 00:01:00  5990627.571 -3589772.933   155782.425\n",
       "2020-02-09 00:02:00  5940554.505 -3664594.643  -293209.976\n",
       "2020-02-09 00:03:00  5864983.805 -3723498.345  -740963.758\n",
       "2020-02-09 00:04:00  5764379.949 -3766019.979 -1185588.367\n",
       "...                          ...          ...          ...\n",
       "2020-02-12 23:56:00 -5604865.884  3554827.519  2110517.183\n",
       "2020-02-12 23:57:00 -5428720.465  3550688.717  2534482.790\n",
       "2020-02-12 23:58:00 -5229723.060  3529891.001  2947650.652\n",
       "2020-02-12 23:59:00 -5008866.456  3492330.022  3348263.362\n",
       "2020-02-13 00:00:00 -4767237.089  3437982.088  3734618.464\n",
       "\n",
       "[5761 rows x 3 columns]"
      ]
     },
     "metadata": {},
     "output_type": "display_data"
    }
   ],
   "source": [
    "cpfDataFrame = dlAndParseCpfData(username_edc, password_edc, url, \n",
    "                                 [cpfList.index[0]], # If several ephemerides are available for this day, only take the first\n",
    "                                 startCollectionDate - timedelta(days=1),\n",
    "                                 odDate + timedelta(days=1))\n",
    "display(cpfDataFrame)"
   ]
  },
  {
   "cell_type": "markdown",
   "metadata": {},
   "source": [
    "## Propagating the solution \n",
    "Propagating the solution and:\n",
    "* Saving the PV coordinates from both the solution and the initial TLE guess.\n",
    "* Computing the difference in LVLH frame between the solution and the initial TLE guess.\n",
    "* Computing the difference in LVLH frame between the solution and the CPF file."
   ]
  },
  {
   "cell_type": "code",
   "execution_count": 26,
   "metadata": {},
   "outputs": [],
   "source": [
    "# Propagating the bounded propagator to retrieve the intermediate states\n",
    "\n",
    "from slrDataUtils import orekitPV2dataframe\n",
    "\n",
    "PV_eci_df = pd.DataFrame()\n",
    "PV_ecef_df = pd.DataFrame()\n",
    "PV_tle_eci_df = pd.DataFrame()\n",
    "deltaPV_tle_lvlh_df = pd.DataFrame(columns=['x', 'y', 'z', 'pos_norm', 'vx', 'vy', 'vz', 'vel_norm'])\n",
    "deltaPV_cpf_lvlh_df = pd.DataFrame(columns=['x', 'y', 'z', 'norm'])\n",
    "\n",
    "# Saving all intermediate\n",
    "from java.util import ArrayList\n",
    "states_list = ArrayList()\n",
    "\n",
    "from org.hipparchus.geometry.euclidean.threed import Vector3D\n",
    "\n",
    "date_current = date_start\n",
    "while date_current.compareTo(date_end) <= 0:\n",
    "    datetime_current = absolutedate_to_datetime(date_current)    \n",
    "    spacecraftState = bounded_propagator.propagate(date_current)\n",
    "    \n",
    "    states_list.add(spacecraftState)\n",
    "    \n",
    "    PV_eci = spacecraftState.getPVCoordinates(eci)\n",
    "    PV_eci_df = PV_eci_df.append(orekitPV2dataframe(PV_eci, datetime_current))\n",
    "    \n",
    "    PV_ecef = spacecraftState.getPVCoordinates(ecef)\n",
    "    PV_ecef_df = PV_ecef_df.append(orekitPV2dataframe(PV_ecef, datetime_current))\n",
    "    \n",
    "    PV_tle_eci = sgp4Propagator.getPVCoordinates(date_current, eci)\n",
    "    PV_tle_eci_df = PV_tle_eci_df.append(orekitPV2dataframe(PV_tle_eci, datetime_current))\n",
    "    \n",
    "    '''\n",
    "    When getting PV coordinates using the SGP4 propagator in LVLH frame, \n",
    "    it is actually a \"delta\" from the PV coordinates resulting from the orbit determination\n",
    "    because this LVLH frame is centered on the satellite's current position based on the orbit determination\n",
    "    '''\n",
    "    deltaPV_lvlh = sgp4Propagator.getPVCoordinates(date_current, lvlh)\n",
    "    deltaPV_tle_lvlh_df.loc[datetime_current] = [deltaPV_lvlh.getPosition().getX(),\n",
    "                                                 deltaPV_lvlh.getPosition().getY(), \n",
    "                                                 deltaPV_lvlh.getPosition().getZ(),\n",
    "                                                 deltaPV_lvlh.getPosition().getNorm(),\n",
    "                                                 deltaPV_lvlh.getVelocity().getX(),\n",
    "                                                 deltaPV_lvlh.getVelocity().getY(), \n",
    "                                                 deltaPV_lvlh.getVelocity().getZ(),\n",
    "                                                 deltaPV_lvlh.getVelocity().getNorm()]\n",
    "    \n",
    "    pos_cpf_ecef = cpfDataFrame.loc[datetime_current]\n",
    "    ecef2lvlh = ecef.getTransformTo(lvlh, date_current)\n",
    "    delta_pos_cpf_lvlh_vector = ecef2lvlh.transformPosition(Vector3D(float(pos_cpf_ecef[0]), float(pos_cpf_ecef[1]), float(pos_cpf_ecef[2])))\n",
    "    deltaPV_cpf_lvlh_df.loc[datetime_current] = [delta_pos_cpf_lvlh_vector.getX(),\n",
    "                                                 delta_pos_cpf_lvlh_vector.getY(), \n",
    "                                                 delta_pos_cpf_lvlh_vector.getZ(),\n",
    "                                                 delta_pos_cpf_lvlh_vector.getNorm()]\n",
    "    \n",
    "    date_current = date_current.shiftedBy(dt)    "
   ]
  },
  {
   "cell_type": "markdown",
   "metadata": {},
   "source": [
    "## Plotting difference between estimated orbit and CPF"
   ]
  },
  {
   "cell_type": "markdown",
   "metadata": {},
   "source": [
    "Plotting position difference. The grey area represents the time window where range measurements were used to perform the orbit determination."
   ]
  },
  {
   "cell_type": "code",
   "execution_count": 27,
   "metadata": {},
   "outputs": [],
   "source": [
    "import numpy as np\n",
    "import plotly.graph_objs as go\n",
    "\n",
    "# Rectangles to visualise time window for orbit determination.\n",
    "\n",
    "od_window_rectangle =  {\n",
    "    'type': 'rect',\n",
    "    # x-reference is assigned to the x-values\n",
    "    'xref': 'x',\n",
    "    # y-reference is assigned to the plot paper [0,1]\n",
    "    'yref': 'paper',\n",
    "    'x0': startCollectionDate,\n",
    "    'y0': 0,\n",
    "    'x1': odDate,\n",
    "    'y1': 1,\n",
    "    'fillcolor': '#d3d3d3',\n",
    "    'opacity': 0.3,\n",
    "    'line': {\n",
    "        'width': 0,\n",
    "    }\n",
    "}"
   ]
  },
  {
   "cell_type": "code",
   "execution_count": 28,
   "metadata": {},
   "outputs": [
    {
     "data": {
      "image/png": "[encoded data removed]"
     },
     "metadata": {},
     "output_type": "display_data"
    }
   ],
   "source": [
    "import plotly.graph_objs as go\n",
    "\n",
    "traceX = go.Scattergl(\n",
    "    x = deltaPV_cpf_lvlh_df.index,\n",
    "    y = deltaPV_cpf_lvlh_df['x'],\n",
    "    mode='lines',\n",
    "    name='Cross-track'\n",
    ")\n",
    "\n",
    "traceY = go.Scattergl(\n",
    "    x = deltaPV_cpf_lvlh_df.index,\n",
    "    y = deltaPV_cpf_lvlh_df['y'],\n",
    "    mode='lines',\n",
    "    name='Along track'\n",
    ")\n",
    "\n",
    "traceZ = go.Scattergl(\n",
    "    x = deltaPV_cpf_lvlh_df.index,\n",
    "    y = deltaPV_cpf_lvlh_df['z'],\n",
    "    mode='lines',\n",
    "    name='Out-of-plane'\n",
    ")\n",
    "\n",
    "data = [traceX, traceY, traceZ]\n",
    "\n",
    "layout = go.Layout(\n",
    "    title = 'Delta position between CPF and estimation in LVLH frame',\n",
    "    xaxis = dict(\n",
    "        title = 'Datetime UTC'\n",
    "    ),\n",
    "    yaxis = dict(\n",
    "        title = 'Position difference (m)'\n",
    "    ),\n",
    "    shapes=[od_window_rectangle]\n",
    ")\n",
    "\n",
    "fig = dict(data=data, layout=layout)\n",
    "\n",
    "pio.show(fig)"
   ]
  },
  {
   "cell_type": "markdown",
   "metadata": {},
   "source": [
    "## Writing own CPF file"
   ]
  },
  {
   "cell_type": "markdown",
   "metadata": {},
   "source": [
    "A CPF file usually contains 7 days of orbit prediction in ECEF frame with a sample time of 5 minutes, to allow the laser stations to track the satellite.\n",
    "\n",
    "Therefore we have to propagate for 7 days."
   ]
  },
  {
   "cell_type": "code",
   "execution_count": 29,
   "metadata": {},
   "outputs": [],
   "source": [
    "# Function to compute MJD days and seconds of day\n",
    "def datetime_to_mjd_days_seconds(le_datetime):\n",
    "    apparent_clock_offset_s = datetime_to_absolutedate(le_datetime).offsetFrom(\n",
    "        mjd_utc_epoch, utc)\n",
    "    days_since_mjd_epoch = int(np.floor(apparent_clock_offset_s / 86400.0))\n",
    "    seconds_of_day = apparent_clock_offset_s - days_since_mjd_epoch * 86400.0\n",
    "    return days_since_mjd_epoch, seconds_of_day"
   ]
  },
  {
   "cell_type": "code",
   "execution_count": 30,
   "metadata": {},
   "outputs": [],
   "source": [
    "date_end_cpf = datetime_to_absolutedate(odDate).shiftedBy(7 * 86400.0)\n",
    "\n",
    "from slrDataUtils import orekitPV2dataframe\n",
    "\n",
    "PV_ecef_cpf_df = pd.DataFrame()\n",
    "\n",
    "dt = 300.0\n",
    "date_current = datetime_to_absolutedate(odDate)\n",
    "while date_current.compareTo(date_end_cpf) <= 0:\n",
    "    datetime_current = absolutedate_to_datetime(date_current)    \n",
    "    spacecraftState = bounded_propagator.propagate(date_current)\n",
    "        \n",
    "    PV_ecef_cpf = spacecraftState.getPVCoordinates(ecef)\n",
    "    PV_ecef_cpf_df = PV_ecef_cpf_df.append(orekitPV2dataframe(PV_ecef_cpf, datetime_current))\n",
    "        \n",
    "    date_current = date_current.shiftedBy(dt)   \n",
    "    \n",
    "PV_ecef_cpf_df['mjd_days'], PV_ecef_cpf_df['seconds_of_day'] = zip(*PV_ecef_cpf_df['DateTimeUTC'].apply(lambda x: \n",
    "                                                                         datetime_to_mjd_days_seconds(x)))"
   ]
  },
  {
   "cell_type": "code",
   "execution_count": 31,
   "metadata": {},
   "outputs": [],
   "source": [
    "from slrDataUtils import write_cpf\n",
    "write_cpf(cpf_df=PV_ecef_cpf_df, \n",
    "          cpf_filename='cpf_out.ass', \n",
    "          ephemeris_source='ASS',  # Absolutely Serious Society\n",
    "          production_date=odDate, \n",
    "          ephemeris_sequence=(odDate-datetime(2020, 1, 1)).days*10 + 5011, \n",
    "          target_name=sc_name, \n",
    "          cospar_id=sat_list[sc_name]['cospar_id'],\n",
    "          sic=sat_list[sc_name]['sic_id'], \n",
    "          norad_id=str(sat_list[sc_name]['norad_id']), \n",
    "          ephemeris_start_date=odDate, \n",
    "          ephemeris_end_date=absolutedate_to_datetime(date_end_cpf), \n",
    "          step_time=int(dt))"
   ]
  },
  {
   "cell_type": "markdown",
   "metadata": {},
   "source": [
    "## Comparison with TLE"
   ]
  },
  {
   "cell_type": "markdown",
   "metadata": {},
   "source": [
    "Plotting the components of the position different between the TLE and the estimation, in LVLH frame. The grey area represents the time window where range measurements were used to perform the orbit determination."
   ]
  },
  {
   "cell_type": "code",
   "execution_count": 32,
   "metadata": {},
   "outputs": [
    {
     "data": {
      "image/png": "[encoded data removed]"
     },
     "metadata": {},
     "output_type": "display_data"
    }
   ],
   "source": [
    "import plotly.graph_objs as go\n",
    "\n",
    "traceX = go.Scattergl(\n",
    "    x = deltaPV_tle_lvlh_df['x'].index,\n",
    "    y = deltaPV_tle_lvlh_df['x'],\n",
    "    mode='lines',\n",
    "    name='Cross-Track'\n",
    ")\n",
    "\n",
    "traceY = go.Scattergl(\n",
    "    x = deltaPV_tle_lvlh_df['y'].index,\n",
    "    y = deltaPV_tle_lvlh_df['y'],\n",
    "    mode='lines',\n",
    "    name='Along-Track'\n",
    ")\n",
    "\n",
    "traceZ = go.Scattergl(\n",
    "    x = deltaPV_tle_lvlh_df['z'].index,\n",
    "    y = deltaPV_tle_lvlh_df['z'],\n",
    "    mode='lines',\n",
    "    name='Out-Of-Plane'\n",
    ")\n",
    "\n",
    "data = [traceX, traceY, traceZ]\n",
    "\n",
    "layout = go.Layout(\n",
    "    title = 'Delta position between TLE and estimation in LVLH frame',\n",
    "    xaxis = dict(\n",
    "        title = 'Datetime UTC'\n",
    "    ),\n",
    "    yaxis = dict(\n",
    "        title = 'Position difference (m)'\n",
    "    ),\n",
    "    shapes=[od_window_rectangle]\n",
    ")\n",
    "\n",
    "fig = dict(data=data, layout=layout)\n",
    "\n",
    "pio.show(fig)"
   ]
  },
  {
   "cell_type": "markdown",
   "metadata": {},
   "source": [
    "## Fitting an \"enhanced\" TLE\n",
    "Let's fit a TLE to the estimated propagator. This requires the original TLE. If no TLE is available, then a first guess can be built by:\n",
    "\n",
    "* Computing the Keplerian orbital elements from the propagator, for example using RV2COE at one instant.\n",
    "* Writing these elements to the TLE. Although these elements are not mean elements, they will be fitted within a certain range.\n",
    "* Write the BSTAR coefficient equal to zero. It is a free parameter in the fitting"
   ]
  },
  {
   "cell_type": "markdown",
   "metadata": {},
   "source": [
    "### Fitting\n",
    "Fitting the TLE, based on great example by RomaricH on the Orekit forum: https://forum.orekit.org/t/generation-of-tle/265/4"
   ]
  },
  {
   "cell_type": "code",
   "execution_count": 33,
   "metadata": {},
   "outputs": [],
   "source": [
    "from org.orekit.propagation.conversion import TLEPropagatorBuilder, FiniteDifferencePropagatorConverter\n",
    "from org.orekit.propagation.analytical.tle import TLEPropagator\n",
    "threshold = 1.0  # \"absolute threshold for optimization algorithm\", but no idea about its impact\n",
    "tle_builder = TLEPropagatorBuilder(orekitTle, PositionAngle.MEAN, 1.0)\n",
    "fitter = FiniteDifferencePropagatorConverter(tle_builder, threshold, 1000)\n",
    "fitter.convert(states_list, False, 'BSTAR')  # Setting BSTAR as free parameter\n",
    "tle_propagator = TLEPropagator.cast_(fitter.getAdaptedPropagator())\n",
    "tle_fitted = tle_propagator.getTLE()"
   ]
  },
  {
   "cell_type": "markdown",
   "metadata": {},
   "source": [
    "Let's compare both the original and the \"enhanced\" TLE:"
   ]
  },
  {
   "cell_type": "code",
   "execution_count": 34,
   "metadata": {},
   "outputs": [
    {
     "name": "stdout",
     "output_type": "stream",
     "text": [
      "1 42829U 17042E   20042.65175483  .00000094  00000-0  14859-4 0  9990\n",
      "2 42829  97.5382 290.2442 0014032 353.8494   6.2550 14.91054974140399\n",
      "\n",
      "1 42829U 17042E   20042.65175483  .00000000  00000-0  14711-4 0  9994\n",
      "2 42829  97.5381 290.2444 0014127 354.4677   5.6311 14.91055530140392\n"
     ]
    }
   ],
   "source": [
    "print(orekitTle)\n",
    "print('')\n",
    "print(tle_fitted)"
   ]
  },
  {
   "cell_type": "markdown",
   "metadata": {},
   "source": [
    "Let us propagate again to save the PV from this new TLE"
   ]
  },
  {
   "cell_type": "code",
   "execution_count": 35,
   "metadata": {},
   "outputs": [],
   "source": [
    "# Setting up yet another SGP4 propagator\n",
    "sgp4Propagator_fitted = SGP4(tle_fitted, nadirPointing, sat_list[sc_name]['mass'])"
   ]
  },
  {
   "cell_type": "code",
   "execution_count": 36,
   "metadata": {},
   "outputs": [],
   "source": [
    "PV_tle_fitted_eci_df = pd.DataFrame()\n",
    "deltaPV_tle_fitted_lvlh_df = pd.DataFrame() # SGP4 PV from SLROD origin\n",
    "\n",
    "date_current = date_start\n",
    "while date_current.compareTo(date_end) <= 0:    \n",
    "    datetime_current = absolutedate_to_datetime(date_current)\n",
    "    \n",
    "    PV_tle_fitted_eci = sgp4Propagator_fitted.getPVCoordinates(date_current, eci)\n",
    "    PV_tle_fitted_eci_df = PV_tle_fitted_eci_df.append(orekitPV2dataframe(PV_tle_fitted_eci, datetime_current))\n",
    "    \n",
    "    deltaPV_tle_fitted_lvlh = sgp4Propagator_fitted.getPVCoordinates(date_current, lvlh)\n",
    "    deltaPV_tle_fitted_lvlh_df = deltaPV_tle_fitted_lvlh_df.append(orekitPV2dataframe(deltaPV_tle_fitted_lvlh, datetime_current))\n",
    "    \n",
    "    date_current = date_current.shiftedBy(dt)    "
   ]
  },
  {
   "cell_type": "markdown",
   "metadata": {},
   "source": [
    "### Comparing with estimated propagator"
   ]
  },
  {
   "cell_type": "markdown",
   "metadata": {},
   "source": [
    "The individual components in LVLH frame are now more centered around zero. The fitting helped. In some cases, the fitted TLE is much better, in some cases not."
   ]
  },
  {
   "cell_type": "code",
   "execution_count": 37,
   "metadata": {},
   "outputs": [
    {
     "data": {
      "image/png": "[encoded data removed]"
     },
     "metadata": {},
     "output_type": "display_data"
    }
   ],
   "source": [
    "import plotly.graph_objs as go\n",
    "\n",
    "traceX = go.Scattergl(\n",
    "    x = deltaPV_tle_fitted_lvlh_df['x'].index,\n",
    "    y = deltaPV_tle_fitted_lvlh_df['x'],\n",
    "    mode='lines',\n",
    "    name='Cross-Track'\n",
    ")\n",
    "\n",
    "traceY = go.Scattergl(\n",
    "    x = deltaPV_tle_fitted_lvlh_df['y'].index,\n",
    "    y = deltaPV_tle_fitted_lvlh_df['y'],\n",
    "    mode='lines',\n",
    "    name='Along-Track'\n",
    ")\n",
    "\n",
    "traceZ = go.Scattergl(\n",
    "    x = deltaPV_tle_fitted_lvlh_df['z'].index,\n",
    "    y = deltaPV_tle_fitted_lvlh_df['z'],\n",
    "    mode='lines',\n",
    "    name='Out-Of-Plane'\n",
    ")\n",
    "\n",
    "data = [traceX, traceY, traceZ]\n",
    "\n",
    "layout = go.Layout(\n",
    "    title = 'Delta position between fitted TLE and estimation in LVLH frame',\n",
    "    xaxis = dict(\n",
    "        title = 'Datetime UTC'\n",
    "    ),\n",
    "    yaxis = dict(\n",
    "        title = 'Position difference (m)'\n",
    "    ),\n",
    "    shapes=[od_window_rectangle]\n",
    ")\n",
    "\n",
    "fig = dict(data=data, layout=layout)\n",
    "\n",
    "pio.show(fig)"
   ]
  },
  {
   "cell_type": "code",
   "execution_count": null,
   "metadata": {},
   "outputs": [],
   "source": []
  }
 ],
 "metadata": {
  "kernelspec": {
   "display_name": "Python 3",
   "language": "python",
   "name": "python3"
  },
  "language_info": {
   "codemirror_mode": {
    "name": "ipython",
    "version": 3
   },
   "file_extension": ".py",
   "mimetype": "text/x-python",
   "name": "python",
   "nbconvert_exporter": "python",
   "pygments_lexer": "ipython3",
   "version": "3.8.1"
  }
 },
 "nbformat": 4,
 "nbformat_minor": 4
}
